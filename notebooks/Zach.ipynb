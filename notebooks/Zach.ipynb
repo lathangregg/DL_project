{
 "cells": [
  {
   "cell_type": "code",
   "execution_count": 1,
   "id": "6add8af5-7173-42c1-b767-b786cc9ffda1",
   "metadata": {
    "tags": []
   },
   "outputs": [],
   "source": [
    "import pandas as pd\n",
    "import numpy as np"
   ]
  },
  {
   "cell_type": "code",
   "execution_count": 17,
   "id": "0d15ccb3-9741-43fb-943a-3cd4da15a9f1",
   "metadata": {
    "tags": []
   },
   "outputs": [],
   "source": [
    "import numpy as np\n",
    "import pandas as pd\n",
    "import matplotlib.pyplot as plt\n",
    "# import seaborn as sns\n",
    "# import torch.nn as nn\n",
    "# from torch.utils.data import DataLoader\n",
    "# import torch.optim as optim\n",
    "# import torch\n",
    "from sklearn.model_selection import train_test_split\n",
    "import os\n",
    "import sys\n",
    "from sklearn.metrics import accuracy_score\n",
    "from pytorch_tabnet.tab_model import TabNetClassifier\n",
    "import torch\n",
    "from sklearn.metrics import accuracy_score, roc_auc_score, classification_report\n"
   ]
  },
  {
   "cell_type": "code",
   "execution_count": 3,
   "id": "1791b005-931c-4993-81ab-c68df7d6900f",
   "metadata": {
    "tags": []
   },
   "outputs": [],
   "source": [
    "# Set the root directory of your repo as part of the path\n",
    "project_root = os.path.abspath(os.path.join(os.getcwd(), '..'))\n",
    "if project_root not in sys.path:\n",
    "    sys.path.append(project_root)"
   ]
  },
  {
   "cell_type": "code",
   "execution_count": 4,
   "id": "ac57adf6-817e-4100-a552-6c0a545654f3",
   "metadata": {
    "tags": []
   },
   "outputs": [
    {
     "name": "stderr",
     "output_type": "stream",
     "text": [
      "/tmp/ipykernel_217845/4119657318.py:1: DtypeWarning: Columns (4) have mixed types. Specify dtype option on import or set low_memory=False.\n",
      "  data = pd.read_csv('../Data/combined/full_lathan.csv')\n"
     ]
    }
   ],
   "source": [
    "data = pd.read_csv('../Data/combined/full_lathan.csv')"
   ]
  },
  {
   "cell_type": "code",
   "execution_count": 5,
   "id": "abfd7575-f42e-47bd-bf92-ca3e0deb033a",
   "metadata": {
    "tags": []
   },
   "outputs": [],
   "source": [
    "from src.data.preprocess import (\n",
    "    combine_team_rows,\n",
    "    add_home_win_column,\n",
    "    split_wins_losses,\n",
    "    add_playoff_indicator,\n",
    "    combine_date_columns,\n",
    "    remove_all_star_and_playoff_games,\n",
    "    create_ml_dataset\n",
    "\n",
    ")"
   ]
  },
  {
   "cell_type": "code",
   "execution_count": 6,
   "id": "68540306-2f14-4e2d-a2d2-cd87163ac82b",
   "metadata": {
    "tags": []
   },
   "outputs": [],
   "source": [
    "# Creating key predictor columns\n",
    "data2 = create_ml_dataset(data)"
   ]
  },
  {
   "cell_type": "code",
   "execution_count": 7,
   "id": "211ef412-9a79-4a8b-bf42-6f5644fba5de",
   "metadata": {
    "tags": []
   },
   "outputs": [],
   "source": [
    "# Filling in GAME_DATE_EST Nans\n",
    "data2['GAME_DATE_EST'] = data2['Date']"
   ]
  },
  {
   "cell_type": "code",
   "execution_count": 8,
   "id": "dea91a4e-e225-42a6-b89c-c102132fcfd4",
   "metadata": {
    "tags": []
   },
   "outputs": [
    {
     "data": {
      "text/plain": [
       "Index(['GAME_ID', 'GAME_SEQUENCE', 'Date', 'YEAR', 'GAME_DATE_EST', 'a_index',\n",
       "       'a_TEAM_ID', 'a_TEAM_WINS_LOSSES', 'a_PTS', 'a_FG_PCT', 'a_FT_PCT',\n",
       "       'a_FG3_PCT', 'a_AST', 'a_REB', 'a_TOV', 'h_index', 'h_TEAM_ID',\n",
       "       'h_TEAM_WINS_LOSSES', 'h_PTS', 'h_FG_PCT', 'h_FT_PCT', 'h_FG3_PCT',\n",
       "       'h_AST', 'h_REB', 'h_TOV', 'HOME_WIN', 'a_WINS', 'a_LOSSES', 'h_WINS',\n",
       "       'h_LOSSES', 'a_SEASON_GAMES_PLAYED', 'h_SEASON_GAMES_PLAYED',\n",
       "       'IS_PLAYOFF_GAME', 'a_season_PTS_lag', 'a_season_AST_lag',\n",
       "       'a_season_REB_lag', 'a_season_TOV_lag', 'a_season_FG_PCT_avg',\n",
       "       'a_season_FT_PCT_avg', 'a_season_FG3_PCT_avg', 'a_WIN_PCT',\n",
       "       'a_WIN_PCT_LAST10', 'h_season_PTS_lag', 'h_season_AST_lag',\n",
       "       'h_season_REB_lag', 'h_season_TOV_lag', 'h_season_FG_PCT_avg',\n",
       "       'h_season_FT_PCT_avg', 'h_season_FG3_PCT_avg', 'h_WIN_PCT',\n",
       "       'h_WIN_PCT_LAST10'],\n",
       "      dtype='object')"
      ]
     },
     "execution_count": 8,
     "metadata": {},
     "output_type": "execute_result"
    }
   ],
   "source": [
    "data2.columns"
   ]
  },
  {
   "cell_type": "code",
   "execution_count": 9,
   "id": "0ab25076-bd35-4049-97de-d1158d57cd99",
   "metadata": {
    "tags": []
   },
   "outputs": [],
   "source": [
    "# Adding season columns (ex: Season 2012-2013 is season 1)\n",
    "season_order = sorted(data2['YEAR'].unique())\n",
    "season_to_index = {season: i+1 for i, season in enumerate(season_order)}\n",
    "data2['SEASON_NUM'] = data2['YEAR'].map(season_to_index)\n",
    "\n",
    "# Dropping rows with Missing values for now\n",
    "data2 = data2.dropna()"
   ]
  },
  {
   "cell_type": "code",
   "execution_count": 10,
   "id": "57d0efb9-a475-4fc8-8cd9-a9e45c7b2e31",
   "metadata": {
    "tags": []
   },
   "outputs": [],
   "source": [
    "# Filtering data into train (2012 - 2016), validation (2017), test seasons (2018-2019)\n",
    "train_df = data2[data2['SEASON_NUM'] <= 3]    # Seasons 1-3\n",
    "val_df = data2[data2['SEASON_NUM'] == 4]      # Season 4\n",
    "test_df = data2[data2['SEASON_NUM'] >= 5]     # Seasons 5-6"
   ]
  },
  {
   "cell_type": "code",
   "execution_count": 12,
   "id": "749ecd9c-af65-4deb-b98c-e10589831c0c",
   "metadata": {
    "tags": []
   },
   "outputs": [],
   "source": [
    "# Dropping columns that we don't need?\n",
    "columns_to_drop = ['a_PTS', 'a_FG_PCT', 'a_FT_PCT','a_FG3_PCT', 'a_AST', 'a_REB', 'a_TOV','GAME_ID',\n",
    "                   'h_PTS', 'h_FG_PCT', 'h_FT_PCT', 'h_FG3_PCT','h_AST', 'h_REB', 'h_TOV',\n",
    "                   'GAME_SEQUENCE', 'Date', 'YEAR', 'a_index', 'a_TEAM_ID','h_TEAM_ID', 'a_TEAM_WINS_LOSSES',\n",
    "                  'h_TEAM_WINS_LOSSES', 'IS_PLAYOFF_GAME', 'GAME_DATE_EST', 'h_index','SEASON_NUM', 'HOME_WIN']\n",
    "\n",
    "\n",
    "# Creating train, validation, and test sets\n",
    "X_train = train_df.drop(columns_to_drop, axis = 1)\n",
    "y_train = train_df['HOME_WIN']\n",
    "\n",
    "X_val = val_df.drop(columns_to_drop, axis = 1)\n",
    "y_val = val_df['HOME_WIN']\n",
    "\n",
    "X_test = test_df.drop(columns_to_drop, axis = 1)\n",
    "y_test = test_df['HOME_WIN']"
   ]
  },
  {
   "cell_type": "code",
   "execution_count": 13,
   "id": "f2935235-6e23-4455-973e-4b23105eb634",
   "metadata": {
    "tags": []
   },
   "outputs": [
    {
     "data": {
      "text/plain": [
       "a_WINS                   0\n",
       "a_LOSSES                 0\n",
       "h_WINS                   0\n",
       "h_LOSSES                 0\n",
       "a_SEASON_GAMES_PLAYED    0\n",
       "h_SEASON_GAMES_PLAYED    0\n",
       "a_season_PTS_lag         0\n",
       "a_season_AST_lag         0\n",
       "a_season_REB_lag         0\n",
       "a_season_TOV_lag         0\n",
       "a_season_FG_PCT_avg      0\n",
       "a_season_FT_PCT_avg      0\n",
       "a_season_FG3_PCT_avg     0\n",
       "a_WIN_PCT                0\n",
       "a_WIN_PCT_LAST10         0\n",
       "h_season_PTS_lag         0\n",
       "h_season_AST_lag         0\n",
       "h_season_REB_lag         0\n",
       "h_season_TOV_lag         0\n",
       "h_season_FG_PCT_avg      0\n",
       "h_season_FT_PCT_avg      0\n",
       "h_season_FG3_PCT_avg     0\n",
       "h_WIN_PCT                0\n",
       "h_WIN_PCT_LAST10         0\n",
       "dtype: int64"
      ]
     },
     "execution_count": 13,
     "metadata": {},
     "output_type": "execute_result"
    }
   ],
   "source": [
    "# Checking Nans totals for differnet columns\n",
    "X_train.isna().sum().sort_values(ascending=False)"
   ]
  },
  {
   "cell_type": "code",
   "execution_count": 14,
   "id": "63acf074-74a5-4135-8208-5b1716e734b1",
   "metadata": {
    "tags": []
   },
   "outputs": [],
   "source": [
    "# Converting data to arrays for compatible Tabnet input\n",
    "X_train = X_train.values\n",
    "y_train = y_train.values\n",
    "\n",
    "X_val = X_val.values\n",
    "y_val = y_val.values\n",
    "\n",
    "X_test = X_test.values\n",
    "y_test = y_test.values"
   ]
  },
  {
   "cell_type": "code",
   "execution_count": 15,
   "id": "4a91e407-6f21-447c-95ef-493a1e36dd16",
   "metadata": {},
   "outputs": [
    {
     "name": "stderr",
     "output_type": "stream",
     "text": [
      "/home/ehe5bn/.local/lib/python3.11/site-packages/pytorch_tabnet/abstract_model.py:82: UserWarning: Device used : cuda\n",
      "  warnings.warn(f\"Device used : {self.device}\")\n"
     ]
    },
    {
     "name": "stdout",
     "output_type": "stream",
     "text": [
      "epoch 0  | loss: 0.97765 | val_accuracy: 0.50206 |  0:00:02s\n",
      "epoch 1  | loss: 0.76887 | val_accuracy: 0.50124 |  0:00:02s\n",
      "epoch 2  | loss: 0.76123 | val_accuracy: 0.49629 |  0:00:03s\n",
      "epoch 3  | loss: 0.71792 | val_accuracy: 0.5136  |  0:00:03s\n",
      "epoch 4  | loss: 0.69202 | val_accuracy: 0.51525 |  0:00:03s\n",
      "epoch 5  | loss: 0.6731  | val_accuracy: 0.53998 |  0:00:03s\n",
      "epoch 6  | loss: 0.6682  | val_accuracy: 0.50866 |  0:00:04s\n",
      "epoch 7  | loss: 0.65991 | val_accuracy: 0.5169  |  0:00:04s\n",
      "epoch 8  | loss: 0.66567 | val_accuracy: 0.52514 |  0:00:04s\n",
      "epoch 9  | loss: 0.6622  | val_accuracy: 0.51443 |  0:00:04s\n",
      "epoch 10 | loss: 0.65156 | val_accuracy: 0.50866 |  0:00:04s\n",
      "epoch 11 | loss: 0.64613 | val_accuracy: 0.52844 |  0:00:05s\n",
      "epoch 12 | loss: 0.64526 | val_accuracy: 0.57296 |  0:00:05s\n",
      "epoch 13 | loss: 0.63995 | val_accuracy: 0.60594 |  0:00:05s\n",
      "epoch 14 | loss: 0.63983 | val_accuracy: 0.59769 |  0:00:05s\n",
      "epoch 15 | loss: 0.6489  | val_accuracy: 0.60511 |  0:00:05s\n",
      "epoch 16 | loss: 0.6384  | val_accuracy: 0.55894 |  0:00:06s\n",
      "epoch 17 | loss: 0.6396  | val_accuracy: 0.56059 |  0:00:06s\n",
      "epoch 18 | loss: 0.63698 | val_accuracy: 0.56966 |  0:00:06s\n",
      "epoch 19 | loss: 0.64164 | val_accuracy: 0.59687 |  0:00:06s\n",
      "epoch 20 | loss: 0.63854 | val_accuracy: 0.59769 |  0:00:06s\n",
      "epoch 21 | loss: 0.63623 | val_accuracy: 0.60511 |  0:00:07s\n",
      "epoch 22 | loss: 0.64126 | val_accuracy: 0.59192 |  0:00:07s\n",
      "epoch 23 | loss: 0.63784 | val_accuracy: 0.59192 |  0:00:07s\n",
      "\n",
      "Early stopping occurred at epoch 23 with best_epoch = 13 and best_val_accuracy = 0.60594\n"
     ]
    },
    {
     "name": "stderr",
     "output_type": "stream",
     "text": [
      "/home/ehe5bn/.local/lib/python3.11/site-packages/pytorch_tabnet/callbacks.py:172: UserWarning: Best weights from best epoch are automatically used!\n",
      "  warnings.warn(wrn_msg)\n"
     ]
    }
   ],
   "source": [
    "# Testing TabNet Model\n",
    "clf = TabNetClassifier(\n",
    "    n_d=16,               # Number of decision prediction steps\n",
    "    n_a=16,               # Number of attention steps (usually equal to n_d)\n",
    "    n_steps=5,            # Number of steps in TabNet\n",
    "    gamma=1.5,            # Relaxation factor\n",
    "    lambda_sparse=1e-4,   # Sparse regularization\n",
    "    optimizer_fn=torch.optim.Adam,  \n",
    "    optimizer_params=dict(lr=2e-2),\n",
    "    scheduler_params={\"step_size\":10, \"gamma\":0.9},  \n",
    "    scheduler_fn=torch.optim.lr_scheduler.StepLR,\n",
    "    verbose=1,\n",
    "    seed=42\n",
    ")\n",
    "\n",
    "clf.fit(\n",
    "    X_train=X_train, y_train=y_train,\n",
    "    eval_set=[(X_val, y_val)],\n",
    "    eval_name=[\"val\"],\n",
    "    eval_metric=[\"accuracy\"],\n",
    "    max_epochs=100,\n",
    "    patience=10,         # Early stopping\n",
    "    batch_size=1024, \n",
    "    virtual_batch_size=128,\n",
    "    num_workers=0,\n",
    "    drop_last=False\n",
    ")"
   ]
  },
  {
   "cell_type": "code",
   "execution_count": 19,
   "id": "9587439d-0300-4fb9-a83e-664f8baaf1ee",
   "metadata": {
    "tags": []
   },
   "outputs": [
    {
     "name": "stdout",
     "output_type": "stream",
     "text": [
      "Accuracy: 0.5755079626578803\n",
      "ROC AUC: 0.6138837105705954\n",
      "              precision    recall  f1-score   support\n",
      "\n",
      "           0       0.58      0.52      0.55      1801\n",
      "           1       0.57      0.63      0.60      1841\n",
      "\n",
      "    accuracy                           0.58      3642\n",
      "   macro avg       0.58      0.57      0.57      3642\n",
      "weighted avg       0.58      0.58      0.57      3642\n",
      "\n"
     ]
    }
   ],
   "source": [
    "# Predict test\n",
    "y_pred = clf.predict(X_test)\n",
    "y_proba = clf.predict_proba(X_test)[:, 1]\n",
    "\n",
    "# Metrics\n",
    "print(\"Accuracy:\", accuracy_score(y_test, y_pred))\n",
    "print(\"ROC AUC:\", roc_auc_score(y_test, y_proba))\n",
    "print(classification_report(y_test, y_pred))"
   ]
  }
 ],
 "metadata": {
  "kernelspec": {
   "display_name": "Python 3 (ipykernel)",
   "language": "python",
   "name": "python3"
  },
  "language_info": {
   "codemirror_mode": {
    "name": "ipython",
    "version": 3
   },
   "file_extension": ".py",
   "mimetype": "text/x-python",
   "name": "python",
   "nbconvert_exporter": "python",
   "pygments_lexer": "ipython3",
   "version": "3.11.4"
  }
 },
 "nbformat": 4,
 "nbformat_minor": 5
}
