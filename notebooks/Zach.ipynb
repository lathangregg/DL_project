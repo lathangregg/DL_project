{
 "cells": [
  {
   "cell_type": "code",
   "execution_count": 75,
   "id": "6add8af5-7173-42c1-b767-b786cc9ffda1",
   "metadata": {
    "tags": []
   },
   "outputs": [],
   "source": [
    "import pandas as pd\n",
    "import numpy as np"
   ]
  },
  {
   "cell_type": "code",
   "execution_count": 76,
   "id": "0d15ccb3-9741-43fb-943a-3cd4da15a9f1",
   "metadata": {
    "tags": []
   },
   "outputs": [],
   "source": [
    "import numpy as np\n",
    "import pandas as pd\n",
    "import matplotlib.pyplot as plt\n",
    "# import seaborn as sns\n",
    "# import torch.nn as nn\n",
    "# from torch.utils.data import DataLoader\n",
    "# import torch.optim as optim\n",
    "# import torch\n",
    "from sklearn.model_selection import train_test_split\n",
    "import os\n",
    "import sys\n",
    "from sklearn.metrics import accuracy_score\n",
    "from pytorch_tabnet.tab_model import TabNetClassifier\n",
    "import torch\n",
    "from sklearn.metrics import accuracy_score, roc_auc_score, classification_report\n"
   ]
  },
  {
   "cell_type": "code",
   "execution_count": 77,
   "id": "1791b005-931c-4993-81ab-c68df7d6900f",
   "metadata": {
    "tags": []
   },
   "outputs": [],
   "source": [
    "# Set the root directory of your repo as part of the path\n",
    "project_root = os.path.abspath(os.path.join(os.getcwd(), '..'))\n",
    "if project_root not in sys.path:\n",
    "    sys.path.append(project_root)"
   ]
  },
  {
   "cell_type": "code",
   "execution_count": 78,
   "id": "ac57adf6-817e-4100-a552-6c0a545654f3",
   "metadata": {
    "tags": []
   },
   "outputs": [
    {
     "name": "stderr",
     "output_type": "stream",
     "text": [
      "/tmp/ipykernel_489336/4119657318.py:1: DtypeWarning: Columns (4) have mixed types. Specify dtype option on import or set low_memory=False.\n",
      "  data = pd.read_csv('../Data/combined/full_lathan.csv')\n"
     ]
    }
   ],
   "source": [
    "data = pd.read_csv('../Data/combined/full_lathan.csv')"
   ]
  },
  {
   "cell_type": "code",
   "execution_count": 80,
   "id": "a50bc483-4d43-46a5-8048-3197e8e12f9c",
   "metadata": {
    "tags": []
   },
   "outputs": [
    {
     "data": {
      "text/html": [
       "<div>\n",
       "<style scoped>\n",
       "    .dataframe tbody tr th:only-of-type {\n",
       "        vertical-align: middle;\n",
       "    }\n",
       "\n",
       "    .dataframe tbody tr th {\n",
       "        vertical-align: top;\n",
       "    }\n",
       "\n",
       "    .dataframe thead th {\n",
       "        text-align: right;\n",
       "    }\n",
       "</style>\n",
       "<table border=\"1\" class=\"dataframe\">\n",
       "  <thead>\n",
       "    <tr style=\"text-align: right;\">\n",
       "      <th></th>\n",
       "      <th>Date</th>\n",
       "      <th>Location</th>\n",
       "      <th>Team</th>\n",
       "      <th>OppTeam</th>\n",
       "      <th>TeamId</th>\n",
       "      <th>GameId</th>\n",
       "      <th>PercentBet_ML</th>\n",
       "      <th>Open_Line_ML</th>\n",
       "      <th>Pinnacle_ML</th>\n",
       "      <th>5dimes_ML</th>\n",
       "      <th>...</th>\n",
       "      <th>Average_Odds_OU</th>\n",
       "      <th>Best_Line_OU</th>\n",
       "      <th>Worst_Line_OU</th>\n",
       "      <th>Best_Odds_OU</th>\n",
       "      <th>Worst_Odds_OU</th>\n",
       "      <th>Pts</th>\n",
       "      <th>Spread</th>\n",
       "      <th>Result</th>\n",
       "      <th>Total</th>\n",
       "      <th>YEAR</th>\n",
       "    </tr>\n",
       "  </thead>\n",
       "  <tbody>\n",
       "    <tr>\n",
       "      <th>0</th>\n",
       "      <td>2012-10-30</td>\n",
       "      <td>away</td>\n",
       "      <td>Washington</td>\n",
       "      <td>Cleveland</td>\n",
       "      <td>1610612764</td>\n",
       "      <td>21200001</td>\n",
       "      <td>44.6</td>\n",
       "      <td>220.0</td>\n",
       "      <td>210.0</td>\n",
       "      <td>200.0</td>\n",
       "      <td>...</td>\n",
       "      <td>-108.17</td>\n",
       "      <td>191.0</td>\n",
       "      <td>187.0</td>\n",
       "      <td>-104.0</td>\n",
       "      <td>-110.0</td>\n",
       "      <td>84.0</td>\n",
       "      <td>-10.0</td>\n",
       "      <td>L</td>\n",
       "      <td>178.0</td>\n",
       "      <td>2012-2013</td>\n",
       "    </tr>\n",
       "    <tr>\n",
       "      <th>1</th>\n",
       "      <td>2012-10-30</td>\n",
       "      <td>home</td>\n",
       "      <td>Cleveland</td>\n",
       "      <td>Washington</td>\n",
       "      <td>1610612739</td>\n",
       "      <td>21200001</td>\n",
       "      <td>55.4</td>\n",
       "      <td>-260.0</td>\n",
       "      <td>-235.0</td>\n",
       "      <td>-240.0</td>\n",
       "      <td>...</td>\n",
       "      <td>-110.17</td>\n",
       "      <td>191.0</td>\n",
       "      <td>187.0</td>\n",
       "      <td>-106.0</td>\n",
       "      <td>-115.0</td>\n",
       "      <td>94.0</td>\n",
       "      <td>10.0</td>\n",
       "      <td>W</td>\n",
       "      <td>178.0</td>\n",
       "      <td>2012-2013</td>\n",
       "    </tr>\n",
       "    <tr>\n",
       "      <th>2</th>\n",
       "      <td>2012-10-30</td>\n",
       "      <td>away</td>\n",
       "      <td>Boston</td>\n",
       "      <td>Miami</td>\n",
       "      <td>1610612738</td>\n",
       "      <td>21200002</td>\n",
       "      <td>44.8</td>\n",
       "      <td>220.0</td>\n",
       "      <td>244.0</td>\n",
       "      <td>240.0</td>\n",
       "      <td>...</td>\n",
       "      <td>-107.33</td>\n",
       "      <td>188.0</td>\n",
       "      <td>182.0</td>\n",
       "      <td>-104.0</td>\n",
       "      <td>-110.0</td>\n",
       "      <td>107.0</td>\n",
       "      <td>-13.0</td>\n",
       "      <td>L</td>\n",
       "      <td>227.0</td>\n",
       "      <td>2012-2013</td>\n",
       "    </tr>\n",
       "    <tr>\n",
       "      <th>3</th>\n",
       "      <td>2012-10-30</td>\n",
       "      <td>home</td>\n",
       "      <td>Miami</td>\n",
       "      <td>Boston</td>\n",
       "      <td>1610612748</td>\n",
       "      <td>21200002</td>\n",
       "      <td>55.2</td>\n",
       "      <td>-260.0</td>\n",
       "      <td>-275.0</td>\n",
       "      <td>-260.0</td>\n",
       "      <td>...</td>\n",
       "      <td>-109.33</td>\n",
       "      <td>188.0</td>\n",
       "      <td>182.0</td>\n",
       "      <td>-105.0</td>\n",
       "      <td>-115.0</td>\n",
       "      <td>120.0</td>\n",
       "      <td>13.0</td>\n",
       "      <td>W</td>\n",
       "      <td>227.0</td>\n",
       "      <td>2012-2013</td>\n",
       "    </tr>\n",
       "    <tr>\n",
       "      <th>4</th>\n",
       "      <td>2012-10-30</td>\n",
       "      <td>away</td>\n",
       "      <td>Dallas</td>\n",
       "      <td>L.A. Lakers</td>\n",
       "      <td>1610612742</td>\n",
       "      <td>21200003</td>\n",
       "      <td>40.8</td>\n",
       "      <td>350.0</td>\n",
       "      <td>393.0</td>\n",
       "      <td>420.0</td>\n",
       "      <td>...</td>\n",
       "      <td>-107.50</td>\n",
       "      <td>187.0</td>\n",
       "      <td>185.0</td>\n",
       "      <td>-100.0</td>\n",
       "      <td>-110.0</td>\n",
       "      <td>99.0</td>\n",
       "      <td>8.0</td>\n",
       "      <td>W</td>\n",
       "      <td>190.0</td>\n",
       "      <td>2012-2013</td>\n",
       "    </tr>\n",
       "  </tbody>\n",
       "</table>\n",
       "<p>5 rows × 59 columns</p>\n",
       "</div>"
      ],
      "text/plain": [
       "         Date Location        Team      OppTeam      TeamId    GameId  \\\n",
       "0  2012-10-30     away  Washington    Cleveland  1610612764  21200001   \n",
       "1  2012-10-30     home   Cleveland   Washington  1610612739  21200001   \n",
       "2  2012-10-30     away      Boston        Miami  1610612738  21200002   \n",
       "3  2012-10-30     home       Miami       Boston  1610612748  21200002   \n",
       "4  2012-10-30     away      Dallas  L.A. Lakers  1610612742  21200003   \n",
       "\n",
       "   PercentBet_ML  Open_Line_ML  Pinnacle_ML  5dimes_ML  ...  Average_Odds_OU  \\\n",
       "0           44.6         220.0        210.0      200.0  ...          -108.17   \n",
       "1           55.4        -260.0       -235.0     -240.0  ...          -110.17   \n",
       "2           44.8         220.0        244.0      240.0  ...          -107.33   \n",
       "3           55.2        -260.0       -275.0     -260.0  ...          -109.33   \n",
       "4           40.8         350.0        393.0      420.0  ...          -107.50   \n",
       "\n",
       "   Best_Line_OU  Worst_Line_OU  Best_Odds_OU  Worst_Odds_OU    Pts  Spread  \\\n",
       "0         191.0          187.0        -104.0         -110.0   84.0   -10.0   \n",
       "1         191.0          187.0        -106.0         -115.0   94.0    10.0   \n",
       "2         188.0          182.0        -104.0         -110.0  107.0   -13.0   \n",
       "3         188.0          182.0        -105.0         -115.0  120.0    13.0   \n",
       "4         187.0          185.0        -100.0         -110.0   99.0     8.0   \n",
       "\n",
       "   Result  Total       YEAR  \n",
       "0       L  178.0  2012-2013  \n",
       "1       W  178.0  2012-2013  \n",
       "2       L  227.0  2012-2013  \n",
       "3       W  227.0  2012-2013  \n",
       "4       W  190.0  2012-2013  \n",
       "\n",
       "[5 rows x 59 columns]"
      ]
     },
     "execution_count": 80,
     "metadata": {},
     "output_type": "execute_result"
    }
   ],
   "source": [
    "# Vegas data\n",
    "vegas = pd.read_csv('../Data/combined/full_vegas_data.csv')\n",
    "vegas.head()"
   ]
  },
  {
   "cell_type": "code",
   "execution_count": 91,
   "id": "9b10290a-7b5b-4493-b643-048c60b99e95",
   "metadata": {
    "tags": []
   },
   "outputs": [],
   "source": [
    "# Editing function to combine team rows of vegas data\n",
    "def combine_team_rows(df):\n",
    "    \"\"\"\n",
    "    Combines rows from the same GAME_ID into one row (1 for away, 1 for home).\n",
    "    Assumes the first team listed per GAME_ID is the away team.\n",
    "    Adds 'a_' and 'h_' prefixes for features accordingly.\n",
    "    \"\"\"\n",
    "    # Check that all games have exactly 2 rows\n",
    "    game_counts = df['GameId'].value_counts()\n",
    "    if not (game_counts == 2).all():\n",
    "        raise ValueError(\"Some GAME_IDs do not have exactly 2 teams.\")\n",
    "\n",
    "    # Sort the dataframe to ensure consistent ordering\n",
    "    df_sorted = df.sort_values(['GameId', 'TeamId']).copy()\n",
    "\n",
    "    # Columns to retain only once (shared columns)\n",
    "    shared_cols = ['GameId', 'Date', 'YEAR']\n",
    "\n",
    "    # Create away and home dataframes\n",
    "    away_rows = df_sorted.groupby('GameId').nth(0).copy()\n",
    "    home_rows = df_sorted.groupby('GameId').nth(1).copy()\n",
    "\n",
    "    # Reset index so GAME_ID becomes a column again\n",
    "    away_rows = away_rows.reset_index()\n",
    "    home_rows = home_rows.reset_index()\n",
    "\n",
    "    # Extract shared info from away team (can be either)\n",
    "    shared = away_rows[shared_cols].copy()\n",
    "\n",
    "    # Drop shared columns from both to avoid duplication\n",
    "    away_features = away_rows.drop(columns=shared_cols)\n",
    "    home_features = home_rows.drop(columns=shared_cols)\n",
    "\n",
    "    # Add prefixes\n",
    "    away_features = away_features.add_prefix('a_')\n",
    "    home_features = home_features.add_prefix('h_')\n",
    "\n",
    "    # Combine all into one DataFrame\n",
    "    combined = pd.concat([shared, away_features, home_features], axis=1)\n",
    "\n",
    "    return combined"
   ]
  },
  {
   "cell_type": "code",
   "execution_count": 92,
   "id": "c2c2c40a-5c92-4682-ac1f-7f2e907af334",
   "metadata": {
    "tags": []
   },
   "outputs": [],
   "source": [
    "# Creating 1 row per game for vegas data\n",
    "vegas = combine_team_rows(vegas)"
   ]
  },
  {
   "cell_type": "code",
   "execution_count": 63,
   "id": "abfd7575-f42e-47bd-bf92-ca3e0deb033a",
   "metadata": {
    "tags": []
   },
   "outputs": [],
   "source": [
    "from src.data.preprocess import (\n",
    "    combine_team_rows,\n",
    "    add_home_win_column,\n",
    "    split_wins_losses,\n",
    "    add_playoff_indicator,\n",
    "    combine_date_columns,\n",
    "    remove_all_star_and_playoff_games,\n",
    "    create_ml_dataset\n",
    "\n",
    ")"
   ]
  },
  {
   "cell_type": "code",
   "execution_count": 64,
   "id": "68540306-2f14-4e2d-a2d2-cd87163ac82b",
   "metadata": {
    "tags": []
   },
   "outputs": [],
   "source": [
    "# Creating key predictor columns\n",
    "data2 = create_ml_dataset(data)"
   ]
  },
  {
   "cell_type": "code",
   "execution_count": 65,
   "id": "211ef412-9a79-4a8b-bf42-6f5644fba5de",
   "metadata": {
    "tags": []
   },
   "outputs": [],
   "source": [
    "# Filling in GAME_DATE_EST Nans\n",
    "data2['GAME_DATE_EST'] = data2['Date']"
   ]
  },
  {
   "cell_type": "code",
   "execution_count": 66,
   "id": "dea91a4e-e225-42a6-b89c-c102132fcfd4",
   "metadata": {
    "tags": []
   },
   "outputs": [
    {
     "data": {
      "text/plain": [
       "Index(['GAME_ID', 'GAME_SEQUENCE', 'Date', 'YEAR', 'GAME_DATE_EST', 'a_index',\n",
       "       'a_TEAM_ID', 'a_TEAM_WINS_LOSSES', 'a_PTS', 'a_FG_PCT', 'a_FT_PCT',\n",
       "       'a_FG3_PCT', 'a_AST', 'a_REB', 'a_TOV', 'h_index', 'h_TEAM_ID',\n",
       "       'h_TEAM_WINS_LOSSES', 'h_PTS', 'h_FG_PCT', 'h_FT_PCT', 'h_FG3_PCT',\n",
       "       'h_AST', 'h_REB', 'h_TOV', 'HOME_WIN', 'a_WINS', 'a_LOSSES', 'h_WINS',\n",
       "       'h_LOSSES', 'a_SEASON_GAMES_PLAYED', 'h_SEASON_GAMES_PLAYED',\n",
       "       'IS_PLAYOFF_GAME', 'a_season_PTS_lag', 'a_season_AST_lag',\n",
       "       'a_season_REB_lag', 'a_season_TOV_lag', 'a_season_FG_PCT_avg',\n",
       "       'a_season_FT_PCT_avg', 'a_season_FG3_PCT_avg', 'a_WIN_PCT',\n",
       "       'a_WIN_PCT_LAST10', 'h_season_PTS_lag', 'h_season_AST_lag',\n",
       "       'h_season_REB_lag', 'h_season_TOV_lag', 'h_season_FG_PCT_avg',\n",
       "       'h_season_FT_PCT_avg', 'h_season_FG3_PCT_avg', 'h_WIN_PCT',\n",
       "       'h_WIN_PCT_LAST10'],\n",
       "      dtype='object')"
      ]
     },
     "execution_count": 66,
     "metadata": {},
     "output_type": "execute_result"
    }
   ],
   "source": [
    "data2.columns"
   ]
  },
  {
   "cell_type": "markdown",
   "id": "14474ce9-3663-43c8-8b7c-74d8b9bebd8c",
   "metadata": {},
   "source": [
    "### Setting up Data for the Model"
   ]
  },
  {
   "cell_type": "code",
   "execution_count": 67,
   "id": "0ab25076-bd35-4049-97de-d1158d57cd99",
   "metadata": {
    "tags": []
   },
   "outputs": [],
   "source": [
    "# Adding season columns (ex: Season 2012-2013 is season 1)\n",
    "season_order = sorted(data2['YEAR'].unique())\n",
    "season_to_index = {season: i+1 for i, season in enumerate(season_order)}\n",
    "data2['SEASON_NUM'] = data2['YEAR'].map(season_to_index)\n",
    "\n",
    "# Dropping rows with Missing values for now\n",
    "data2 = data2.dropna()"
   ]
  },
  {
   "cell_type": "code",
   "execution_count": 68,
   "id": "57d0efb9-a475-4fc8-8cd9-a9e45c7b2e31",
   "metadata": {
    "tags": []
   },
   "outputs": [],
   "source": [
    "# Filtering data into train (2012 - 2016), validation (2017), test seasons (2018-2019)\n",
    "train_df = data2[data2['SEASON_NUM'] <= 3]    # Seasons 1-3\n",
    "val_df = data2[data2['SEASON_NUM'] == 4]      # Season 4\n",
    "test_df = data2[data2['SEASON_NUM'] >= 5]     # Seasons 5-6"
   ]
  },
  {
   "cell_type": "code",
   "execution_count": 69,
   "id": "749ecd9c-af65-4deb-b98c-e10589831c0c",
   "metadata": {
    "tags": []
   },
   "outputs": [],
   "source": [
    "# Dropping columns that we don't need?\n",
    "columns_to_drop = ['a_PTS', 'a_FG_PCT', 'a_FT_PCT','a_FG3_PCT', 'a_AST', 'a_REB', 'a_TOV','GAME_ID',\n",
    "                   'h_PTS', 'h_FG_PCT', 'h_FT_PCT', 'h_FG3_PCT','h_AST', 'h_REB', 'h_TOV',\n",
    "                   'GAME_SEQUENCE', 'Date', 'YEAR', 'a_index', 'a_TEAM_ID','h_TEAM_ID', 'a_TEAM_WINS_LOSSES',\n",
    "                  'h_TEAM_WINS_LOSSES', 'IS_PLAYOFF_GAME', 'GAME_DATE_EST', 'h_index','SEASON_NUM', 'HOME_WIN']\n",
    "\n",
    "\n",
    "# Creating train, validation, and test sets\n",
    "X_train = train_df.drop(columns_to_drop, axis = 1)\n",
    "y_train = train_df['HOME_WIN']\n",
    "\n",
    "X_val = val_df.drop(columns_to_drop, axis = 1)\n",
    "y_val = val_df['HOME_WIN']\n",
    "\n",
    "X_test = test_df.drop(columns_to_drop, axis = 1)\n",
    "y_test = test_df['HOME_WIN']"
   ]
  },
  {
   "cell_type": "code",
   "execution_count": 83,
   "id": "f2935235-6e23-4455-973e-4b23105eb634",
   "metadata": {
    "tags": []
   },
   "outputs": [
    {
     "data": {
      "text/plain": [
       "Bovada_ML                3370\n",
       "Open_Line_ML              336\n",
       "Betonline_ML              288\n",
       "Bovada_Odds_OU            280\n",
       "Bovada_Line_OU            280\n",
       "Open_Odds_OU              173\n",
       "Open_Line_OU              173\n",
       "Heritage_ML               169\n",
       "Heritage_Line_OU          153\n",
       "Heritage_Odds_OU          153\n",
       "Open_Line_Spread          136\n",
       "Open_Odds_Spread          136\n",
       "5dimes_Odds_OU            109\n",
       "5dimes_Line_OU            109\n",
       "Pinnacle_ML               106\n",
       "5dimes_ML                  94\n",
       "Betonline_Line_OU          82\n",
       "Betonline_Odds_OU          82\n",
       "Pinnacle_Odds_OU           78\n",
       "Pinnacle_Line_OU           78\n",
       "Heritage_Line_Spread       75\n",
       "Heritage_Odds_Spread       75\n",
       "Bovada_Line_Spread         64\n",
       "Bovada_Odds_Spread         64\n",
       "Pinnacle_Odds_Spread       44\n",
       "Pinnacle_Line_Spread       44\n",
       "Betonline_Line_Spread      22\n",
       "Betonline_Odds_Spread      22\n",
       "5dimes_Odds_Spread         18\n",
       "5dimes_Line_Spread         18\n",
       "Best_Odds_Spread            4\n",
       "Worst_Odds_Spread           4\n",
       "Average_Line_Spread         4\n",
       "Worst_Line_Spread           4\n",
       "Best_Line_Spread            4\n",
       "Average_Odds_Spread         4\n",
       "Worst_Line_ML               4\n",
       "Best_Line_ML                4\n",
       "Average_Line_ML             4\n",
       "Best_Line_OU                2\n",
       "Worst_Line_OU               2\n",
       "Average_Odds_OU             2\n",
       "Best_Odds_OU                2\n",
       "Worst_Odds_OU               2\n",
       "Average_Line_OU             2\n",
       "Pts                         0\n",
       "Spread                      0\n",
       "Result                      0\n",
       "Total                       0\n",
       "Date                        0\n",
       "PercentBet_OU               0\n",
       "Location                    0\n",
       "PercentBet_Spread           0\n",
       "PercentBet_ML               0\n",
       "GameId                      0\n",
       "TeamId                      0\n",
       "OppTeam                     0\n",
       "Team                        0\n",
       "YEAR                        0\n",
       "dtype: int64"
      ]
     },
     "execution_count": 83,
     "metadata": {},
     "output_type": "execute_result"
    }
   ],
   "source": [
    "# Checking Nans totals for differnet columns\n",
    "vegas.isna().sum().sort_values(ascending=False)"
   ]
  },
  {
   "cell_type": "markdown",
   "id": "d05c5169-a4ba-4a44-ae7d-6f205453f77f",
   "metadata": {},
   "source": [
    "### Feature Engineering:"
   ]
  },
  {
   "cell_type": "code",
   "execution_count": 71,
   "id": "39ac2acb-92ae-4ac8-96ac-3585e023852a",
   "metadata": {
    "tags": []
   },
   "outputs": [],
   "source": [
    "# Scaling the data with mean 0 and standard deviation 1\n",
    "\n",
    "# Fit scaler on training features only\n",
    "scaler = StandardScaler()\n",
    "X_train_scaled = scaler.fit_transform(X_train)\n",
    "\n",
    "# Apply same scaler to val/test\n",
    "X_val_scaled = scaler.transform(X_val)\n",
    "X_test_scaled = scaler.transform(X_test)"
   ]
  },
  {
   "cell_type": "code",
   "execution_count": 73,
   "id": "91fddde6-4d3e-48d7-a871-b074b140e79e",
   "metadata": {
    "tags": []
   },
   "outputs": [
    {
     "name": "stderr",
     "output_type": "stream",
     "text": [
      "/home/ehe5bn/.local/lib/python3.11/site-packages/pytorch_tabnet/abstract_model.py:82: UserWarning: Device used : cuda\n",
      "  warnings.warn(f\"Device used : {self.device}\")\n"
     ]
    },
    {
     "name": "stdout",
     "output_type": "stream",
     "text": [
      "epoch 0  | loss: 0.98759 | val_accuracy: 0.53998 |  0:00:00s\n",
      "epoch 1  | loss: 0.83197 | val_accuracy: 0.58697 |  0:00:00s\n",
      "epoch 2  | loss: 0.74297 | val_accuracy: 0.59604 |  0:00:00s\n",
      "epoch 3  | loss: 0.71295 | val_accuracy: 0.59522 |  0:00:00s\n",
      "epoch 4  | loss: 0.70011 | val_accuracy: 0.58203 |  0:00:01s\n",
      "epoch 5  | loss: 0.67949 | val_accuracy: 0.62077 |  0:00:01s\n",
      "epoch 6  | loss: 0.66851 | val_accuracy: 0.60511 |  0:00:01s\n",
      "epoch 7  | loss: 0.66235 | val_accuracy: 0.62242 |  0:00:01s\n",
      "epoch 8  | loss: 0.66488 | val_accuracy: 0.59769 |  0:00:02s\n",
      "epoch 9  | loss: 0.66551 | val_accuracy: 0.61088 |  0:00:02s\n",
      "epoch 10 | loss: 0.65399 | val_accuracy: 0.59439 |  0:00:02s\n",
      "epoch 11 | loss: 0.6501  | val_accuracy: 0.60841 |  0:00:02s\n",
      "epoch 12 | loss: 0.65284 | val_accuracy: 0.60594 |  0:00:03s\n",
      "epoch 13 | loss: 0.6522  | val_accuracy: 0.61006 |  0:00:03s\n",
      "epoch 14 | loss: 0.64835 | val_accuracy: 0.60346 |  0:00:03s\n",
      "epoch 15 | loss: 0.64568 | val_accuracy: 0.61006 |  0:00:03s\n",
      "epoch 16 | loss: 0.64853 | val_accuracy: 0.63314 |  0:00:03s\n",
      "epoch 17 | loss: 0.64198 | val_accuracy: 0.63149 |  0:00:04s\n",
      "epoch 18 | loss: 0.64293 | val_accuracy: 0.6183  |  0:00:04s\n",
      "epoch 19 | loss: 0.64389 | val_accuracy: 0.61336 |  0:00:04s\n",
      "epoch 20 | loss: 0.64254 | val_accuracy: 0.62407 |  0:00:04s\n",
      "epoch 21 | loss: 0.63937 | val_accuracy: 0.62902 |  0:00:05s\n",
      "epoch 22 | loss: 0.63876 | val_accuracy: 0.6183  |  0:00:05s\n",
      "epoch 23 | loss: 0.64471 | val_accuracy: 0.61748 |  0:00:05s\n",
      "epoch 24 | loss: 0.64274 | val_accuracy: 0.61748 |  0:00:05s\n",
      "epoch 25 | loss: 0.6395  | val_accuracy: 0.60758 |  0:00:05s\n",
      "epoch 26 | loss: 0.63652 | val_accuracy: 0.62242 |  0:00:06s\n",
      "\n",
      "Early stopping occurred at epoch 26 with best_epoch = 16 and best_val_accuracy = 0.63314\n"
     ]
    },
    {
     "name": "stderr",
     "output_type": "stream",
     "text": [
      "/home/ehe5bn/.local/lib/python3.11/site-packages/pytorch_tabnet/callbacks.py:172: UserWarning: Best weights from best epoch are automatically used!\n",
      "  warnings.warn(wrn_msg)\n"
     ]
    }
   ],
   "source": [
    "# Testing TabNet Model\n",
    "clf = TabNetClassifier(\n",
    "    n_d=16,               # Number of decision prediction steps\n",
    "    n_a=16,               # Number of attention steps (usually equal to n_d)\n",
    "    n_steps=5,            # Number of steps in TabNet\n",
    "    gamma=1.5,            # Relaxation factor\n",
    "    lambda_sparse=1e-4,   # Sparse regularization\n",
    "    optimizer_fn=torch.optim.Adam,  \n",
    "    optimizer_params=dict(lr=2e-2),\n",
    "    scheduler_params={\"step_size\":10, \"gamma\":0.9},  \n",
    "    scheduler_fn=torch.optim.lr_scheduler.StepLR,\n",
    "    verbose=1,\n",
    "    seed=42\n",
    ")\n",
    "\n",
    "clf.fit(\n",
    "    X_train=X_train_scaled, y_train=y_train,\n",
    "    eval_set=[(X_val_scaled, y_val)],\n",
    "    eval_name=[\"val\"],\n",
    "    eval_metric=[\"accuracy\"],\n",
    "    max_epochs=100,\n",
    "    patience=10,         # Early stopping\n",
    "    batch_size=1024, \n",
    "    virtual_batch_size=128,\n",
    "    num_workers=0,\n",
    "    drop_last=False\n",
    ")"
   ]
  },
  {
   "cell_type": "code",
   "execution_count": 74,
   "id": "9587439d-0300-4fb9-a83e-664f8baaf1ee",
   "metadata": {
    "tags": []
   },
   "outputs": [
    {
     "name": "stdout",
     "output_type": "stream",
     "text": [
      "Accuracy: 0.6057111477210324\n",
      "ROC AUC: 0.6376477429251237\n",
      "              precision    recall  f1-score   support\n",
      "\n",
      "           0       0.60      0.63      0.61      1801\n",
      "           1       0.62      0.58      0.60      1841\n",
      "\n",
      "    accuracy                           0.61      3642\n",
      "   macro avg       0.61      0.61      0.61      3642\n",
      "weighted avg       0.61      0.61      0.61      3642\n",
      "\n"
     ]
    }
   ],
   "source": [
    "# Predicting on test data\n",
    "y_pred = clf.predict(X_test_scaled)\n",
    "y_proba = clf.predict_proba(X_test_scaled)[:, 1]\n",
    "\n",
    "# Metrics\n",
    "print(\"Accuracy:\", accuracy_score(y_test, y_pred))\n",
    "print(\"ROC AUC:\", roc_auc_score(y_test, y_proba))\n",
    "print(classification_report(y_test, y_pred))"
   ]
  }
 ],
 "metadata": {
  "kernelspec": {
   "display_name": "Python 3 (ipykernel)",
   "language": "python",
   "name": "python3"
  },
  "language_info": {
   "codemirror_mode": {
    "name": "ipython",
    "version": 3
   },
   "file_extension": ".py",
   "mimetype": "text/x-python",
   "name": "python",
   "nbconvert_exporter": "python",
   "pygments_lexer": "ipython3",
   "version": "3.11.4"
  }
 },
 "nbformat": 4,
 "nbformat_minor": 5
}
