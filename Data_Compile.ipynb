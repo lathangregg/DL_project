{
 "cells": [
  {
   "cell_type": "code",
   "execution_count": 52,
   "id": "4a6540df-2f34-4314-bc0f-f4cce5c47ad1",
   "metadata": {},
   "outputs": [],
   "source": [
    "import numpy as np\n",
    "import pandas as pd"
   ]
  },
  {
   "cell_type": "code",
   "execution_count": 3,
   "id": "09b48a7e-851c-47e2-b32d-a9dc8290e6b1",
   "metadata": {},
   "outputs": [],
   "source": [
    "raw_2012 = pd.read_csv('Data/2012-13/raw_scores.txt')\n",
    "reg_vegas_2012 = pd.read_csv('Data/2012-13/vegas.txt')\n",
    "raw_2013 = pd.read_csv('Data/2013-14/raw_scores.txt')\n",
    "reg_vegas_2013 = pd.read_csv('Data/2013-14/vegas.txt')\n",
    "raw_2014 = pd.read_csv('Data/2014-15/raw_scores.txt')\n",
    "reg_vegas_2014 = pd.read_csv('Data/2014-15/vegas.txt')\n",
    "raw_2015 = pd.read_csv('Data/2015-16/raw_scores.txt')\n",
    "reg_vegas_2015 = pd.read_csv('Data/2015-16/vegas.txt')\n",
    "raw_2016 = pd.read_csv('Data/2016-17/raw_scores.txt')\n",
    "reg_vegas_2016 = pd.read_csv('Data/2016-17/vegas.txt')\n",
    "raw_2017 = pd.read_csv('Data/2017-18/raw_scores.txt')\n",
    "reg_vegas_2017 = pd.read_csv('Data/2017-18/vegas.txt')\n",
    "raw_2018 = pd.read_csv('Data/2018-19/raw_scores.txt')\n",
    "reg_vegas_2018 = pd.read_csv('Data/2018-19/vegas.txt')"
   ]
  },
  {
   "cell_type": "code",
   "execution_count": 44,
   "id": "5ae3c965",
   "metadata": {},
   "outputs": [],
   "source": [
    "full_data = pd.read_csv('Data/combined/full_raw_data.csv')\n",
    "full_vegas_data = pd.read_csv('Data/combined/full_vegas_data.csv')"
   ]
  },
  {
   "cell_type": "code",
   "execution_count": 6,
   "id": "9cace47e-a3eb-4fd0-a327-44a4637793cb",
   "metadata": {},
   "outputs": [
    {
     "data": {
      "text/plain": [
       "Index(['Date', 'Location', 'Team', 'OppTeam', 'TeamId', 'GameId',\n",
       "       'PercentBet_ML', 'Open_Line_ML', 'Pinnacle_ML', '5dimes_ML',\n",
       "       'Heritage_ML', 'Bovada_ML', 'Betonline_ML', 'Average_Line_ML',\n",
       "       'Best_Line_ML', 'Worst_Line_ML', 'PercentBet_Spread',\n",
       "       'Open_Line_Spread', 'Open_Odds_Spread', 'Pinnacle_Line_Spread',\n",
       "       'Pinnacle_Odds_Spread', '5dimes_Line_Spread', '5dimes_Odds_Spread',\n",
       "       'Heritage_Line_Spread', 'Heritage_Odds_Spread', 'Bovada_Line_Spread',\n",
       "       'Bovada_Odds_Spread', 'Betonline_Line_Spread', 'Betonline_Odds_Spread',\n",
       "       'Average_Line_Spread', 'Average_Odds_Spread', 'Best_Line_Spread',\n",
       "       'Worst_Line_Spread', 'Best_Odds_Spread', 'Worst_Odds_Spread',\n",
       "       'PercentBet_OU', 'Open_Line_OU', 'Open_Odds_OU', 'Pinnacle_Line_OU',\n",
       "       'Pinnacle_Odds_OU', '5dimes_Line_OU', '5dimes_Odds_OU',\n",
       "       'Heritage_Line_OU', 'Heritage_Odds_OU', 'Bovada_Line_OU',\n",
       "       'Bovada_Odds_OU', 'Betonline_Line_OU', 'Betonline_Odds_OU',\n",
       "       'Average_Line_OU', 'Average_Odds_OU', 'Best_Line_OU', 'Worst_Line_OU',\n",
       "       'Best_Odds_OU', 'Worst_Odds_OU', 'Pts', 'Spread', 'Result', 'Total',\n",
       "       'YEAR'],\n",
       "      dtype='object')"
      ]
     },
     "execution_count": 6,
     "metadata": {},
     "output_type": "execute_result"
    }
   ],
   "source": [
    "full_vegas_data.columns"
   ]
  },
  {
   "cell_type": "code",
   "execution_count": 13,
   "id": "e765ab49-d70e-4528-b3f4-4cbbdf35216c",
   "metadata": {},
   "outputs": [
    {
     "data": {
      "text/plain": [
       "Index(['Date', 'GAME_SEQUENCE', 'GAME_ID', 'TEAM_ID', 'TEAM_ABBREVIATION',\n",
       "       'TEAM_CITY_NAME', 'TEAM_WINS_LOSSES', 'PTS_QTR1', 'PTS_QTR2',\n",
       "       'PTS_QTR3', 'PTS_QTR4', 'PTS_OT1', 'PTS_OT2', 'PTS_OT3', 'PTS_OT4',\n",
       "       'PTS_OT5', 'PTS_OT6', 'PTS_OT7', 'PTS_OT8', 'PTS_OT9', 'PTS_OT10',\n",
       "       'PTS', 'FG_PCT', 'FT_PCT', 'FG3_PCT', 'AST', 'REB', 'TOV', 'YEAR',\n",
       "       'GAME_DATE_EST'],\n",
       "      dtype='object')"
      ]
     },
     "execution_count": 13,
     "metadata": {},
     "output_type": "execute_result"
    }
   ],
   "source": [
    "full_data.columns"
   ]
  },
  {
   "cell_type": "code",
   "execution_count": 48,
   "id": "88b74c58",
   "metadata": {},
   "outputs": [],
   "source": [
    "def add_rolling_average(df, group_col, value_col, new_col_name):\n",
    "    \"\"\"\n",
    "    Adds a column to the DataFrame with the rolling average of a value column,\n",
    "    grouped by another column.\n",
    "\n",
    "    Args:\n",
    "        df (pd.DataFrame): The input DataFrame.\n",
    "        group_col (str): The name of the column to group by.\n",
    "        value_col (str): The name of the column to calculate the rolling average on.\n",
    "        new_col_name (str): The name of the new column for the rolling average.\n",
    "\n",
    "    Returns:\n",
    "        pd.DataFrame: The DataFrame with the new column added.\n",
    "    \"\"\"\n",
    "    df[new_col_name] = df.groupby(group_col)[value_col].transform(lambda x: x.expanding().mean().shift(1))\n",
    "    df[new_col_name].fillna(0, inplace=True)\n",
    "    return df\n",
    "\n",
    "def add_rolling_avg_by_year(df, group_cols, value_col, new_col_name):\n",
    "    \"\"\"\n",
    "    Adds a column to the DataFrame containing the rolling average of a value column,\n",
    "    grouped by specified columns.\n",
    "\n",
    "    Args:\n",
    "        df (pd.DataFrame): The input DataFrame.\n",
    "        group_cols (list): List of column names to group by.\n",
    "        value_col (str): Name of the column to calculate the rolling average on.\n",
    "        new_col_name (str): Name of the new column to add.\n",
    "\n",
    "    Returns:\n",
    "         pd.DataFrame: The DataFrame with the new column.\n",
    "    \"\"\"\n",
    "    df[new_col_name] = df.groupby(group_cols)[value_col].transform(lambda x: x.expanding().mean().shift(1))\n",
    "    df[new_col_name].fillna(0, inplace=True)\n",
    "    return df"
   ]
  },
  {
   "cell_type": "code",
   "execution_count": 28,
   "id": "e498b80f",
   "metadata": {},
   "outputs": [
    {
     "data": {
      "text/plain": [
       "Index(['Date', 'GAME_SEQUENCE', 'GAME_ID', 'TEAM_ID', 'TEAM_ABBREVIATION',\n",
       "       'TEAM_CITY_NAME', 'TEAM_WINS_LOSSES', 'PTS_QTR1', 'PTS_QTR2',\n",
       "       'PTS_QTR3', 'PTS_QTR4', 'PTS_OT1', 'PTS_OT2', 'PTS_OT3', 'PTS_OT4',\n",
       "       'PTS_OT5', 'PTS_OT6', 'PTS_OT7', 'PTS_OT8', 'PTS_OT9', 'PTS_OT10',\n",
       "       'PTS', 'FG_PCT', 'FT_PCT', 'FG3_PCT', 'AST', 'REB', 'TOV', 'YEAR',\n",
       "       'GAME_DATE_EST'],\n",
       "      dtype='object')"
      ]
     },
     "execution_count": 28,
     "metadata": {},
     "output_type": "execute_result"
    }
   ],
   "source": [
    "full_data.columns"
   ]
  },
  {
   "cell_type": "code",
   "execution_count": null,
   "id": "693dd381",
   "metadata": {},
   "outputs": [
    {
     "name": "stderr",
     "output_type": "stream",
     "text": [
      "/var/folders/wc/2vlzlkzx2vd8xlqpnpxgcw6w0000gn/T/ipykernel_41741/2380430609.py:16: FutureWarning: A value is trying to be set on a copy of a DataFrame or Series through chained assignment using an inplace method.\n",
      "The behavior will change in pandas 3.0. This inplace method will never work because the intermediate object on which we are setting values always behaves as a copy.\n",
      "\n",
      "For example, when doing 'df[col].method(value, inplace=True)', try using 'df.method({col: value}, inplace=True)' or df[col] = df[col].method(value) instead, to perform the operation inplace on the original object.\n",
      "\n",
      "\n",
      "  df[new_col_name].fillna(0, inplace=True)\n"
     ]
    }
   ],
   "source": [
    "full_data = add_rolling_average(full_data, 'TEAM_ID', 'PTS', 'AVG_PPG')\n",
    "full_data = add_rolling_average(full_data, 'TEAM_ID', 'FG_PCT', 'AVG_FG_PCT')\n",
    "full_data = add_rolling_average(full_data, 'TEAM_ID', 'FG3_PCT', 'AVG_FG3_PCT')\n",
    "full_data = add_rolling_average(full_data, 'TEAM_ID', 'FT_PCT', 'AVG_FT_PCT')\n",
    "full_data = add_rolling_average(full_data, 'TEAM_ID', 'AST', 'AVG_AST')\n",
    "full_data = add_rolling_average(full_data, 'TEAM_ID', 'REB', 'AVG_REB')\n",
    "full_data = add_rolling_average(full_data, 'TEAM_ID', 'TOV', 'AVG_TOV')"
   ]
  },
  {
   "cell_type": "code",
   "execution_count": 49,
   "id": "79c66d54-35d6-46b3-960b-2b05db4bb612",
   "metadata": {},
   "outputs": [
    {
     "name": "stderr",
     "output_type": "stream",
     "text": [
      "/var/folders/wc/2vlzlkzx2vd8xlqpnpxgcw6w0000gn/T/ipykernel_41741/470972626.py:34: FutureWarning: A value is trying to be set on a copy of a DataFrame or Series through chained assignment using an inplace method.\n",
      "The behavior will change in pandas 3.0. This inplace method will never work because the intermediate object on which we are setting values always behaves as a copy.\n",
      "\n",
      "For example, when doing 'df[col].method(value, inplace=True)', try using 'df.method({col: value}, inplace=True)' or df[col] = df[col].method(value) instead, to perform the operation inplace on the original object.\n",
      "\n",
      "\n",
      "  df[new_col_name].fillna(0, inplace=True)\n",
      "/var/folders/wc/2vlzlkzx2vd8xlqpnpxgcw6w0000gn/T/ipykernel_41741/470972626.py:34: FutureWarning: A value is trying to be set on a copy of a DataFrame or Series through chained assignment using an inplace method.\n",
      "The behavior will change in pandas 3.0. This inplace method will never work because the intermediate object on which we are setting values always behaves as a copy.\n",
      "\n",
      "For example, when doing 'df[col].method(value, inplace=True)', try using 'df.method({col: value}, inplace=True)' or df[col] = df[col].method(value) instead, to perform the operation inplace on the original object.\n",
      "\n",
      "\n",
      "  df[new_col_name].fillna(0, inplace=True)\n",
      "/var/folders/wc/2vlzlkzx2vd8xlqpnpxgcw6w0000gn/T/ipykernel_41741/470972626.py:34: FutureWarning: A value is trying to be set on a copy of a DataFrame or Series through chained assignment using an inplace method.\n",
      "The behavior will change in pandas 3.0. This inplace method will never work because the intermediate object on which we are setting values always behaves as a copy.\n",
      "\n",
      "For example, when doing 'df[col].method(value, inplace=True)', try using 'df.method({col: value}, inplace=True)' or df[col] = df[col].method(value) instead, to perform the operation inplace on the original object.\n",
      "\n",
      "\n",
      "  df[new_col_name].fillna(0, inplace=True)\n",
      "/var/folders/wc/2vlzlkzx2vd8xlqpnpxgcw6w0000gn/T/ipykernel_41741/470972626.py:34: FutureWarning: A value is trying to be set on a copy of a DataFrame or Series through chained assignment using an inplace method.\n",
      "The behavior will change in pandas 3.0. This inplace method will never work because the intermediate object on which we are setting values always behaves as a copy.\n",
      "\n",
      "For example, when doing 'df[col].method(value, inplace=True)', try using 'df.method({col: value}, inplace=True)' or df[col] = df[col].method(value) instead, to perform the operation inplace on the original object.\n",
      "\n",
      "\n",
      "  df[new_col_name].fillna(0, inplace=True)\n",
      "/var/folders/wc/2vlzlkzx2vd8xlqpnpxgcw6w0000gn/T/ipykernel_41741/470972626.py:34: FutureWarning: A value is trying to be set on a copy of a DataFrame or Series through chained assignment using an inplace method.\n",
      "The behavior will change in pandas 3.0. This inplace method will never work because the intermediate object on which we are setting values always behaves as a copy.\n",
      "\n",
      "For example, when doing 'df[col].method(value, inplace=True)', try using 'df.method({col: value}, inplace=True)' or df[col] = df[col].method(value) instead, to perform the operation inplace on the original object.\n",
      "\n",
      "\n",
      "  df[new_col_name].fillna(0, inplace=True)\n",
      "/var/folders/wc/2vlzlkzx2vd8xlqpnpxgcw6w0000gn/T/ipykernel_41741/470972626.py:34: FutureWarning: A value is trying to be set on a copy of a DataFrame or Series through chained assignment using an inplace method.\n",
      "The behavior will change in pandas 3.0. This inplace method will never work because the intermediate object on which we are setting values always behaves as a copy.\n",
      "\n",
      "For example, when doing 'df[col].method(value, inplace=True)', try using 'df.method({col: value}, inplace=True)' or df[col] = df[col].method(value) instead, to perform the operation inplace on the original object.\n",
      "\n",
      "\n",
      "  df[new_col_name].fillna(0, inplace=True)\n",
      "/var/folders/wc/2vlzlkzx2vd8xlqpnpxgcw6w0000gn/T/ipykernel_41741/470972626.py:34: FutureWarning: A value is trying to be set on a copy of a DataFrame or Series through chained assignment using an inplace method.\n",
      "The behavior will change in pandas 3.0. This inplace method will never work because the intermediate object on which we are setting values always behaves as a copy.\n",
      "\n",
      "For example, when doing 'df[col].method(value, inplace=True)', try using 'df.method({col: value}, inplace=True)' or df[col] = df[col].method(value) instead, to perform the operation inplace on the original object.\n",
      "\n",
      "\n",
      "  df[new_col_name].fillna(0, inplace=True)\n",
      "/var/folders/wc/2vlzlkzx2vd8xlqpnpxgcw6w0000gn/T/ipykernel_41741/470972626.py:34: FutureWarning: A value is trying to be set on a copy of a DataFrame or Series through chained assignment using an inplace method.\n",
      "The behavior will change in pandas 3.0. This inplace method will never work because the intermediate object on which we are setting values always behaves as a copy.\n",
      "\n",
      "For example, when doing 'df[col].method(value, inplace=True)', try using 'df.method({col: value}, inplace=True)' or df[col] = df[col].method(value) instead, to perform the operation inplace on the original object.\n",
      "\n",
      "\n",
      "  df[new_col_name].fillna(0, inplace=True)\n",
      "/var/folders/wc/2vlzlkzx2vd8xlqpnpxgcw6w0000gn/T/ipykernel_41741/470972626.py:34: FutureWarning: A value is trying to be set on a copy of a DataFrame or Series through chained assignment using an inplace method.\n",
      "The behavior will change in pandas 3.0. This inplace method will never work because the intermediate object on which we are setting values always behaves as a copy.\n",
      "\n",
      "For example, when doing 'df[col].method(value, inplace=True)', try using 'df.method({col: value}, inplace=True)' or df[col] = df[col].method(value) instead, to perform the operation inplace on the original object.\n",
      "\n",
      "\n",
      "  df[new_col_name].fillna(0, inplace=True)\n",
      "/var/folders/wc/2vlzlkzx2vd8xlqpnpxgcw6w0000gn/T/ipykernel_41741/470972626.py:34: FutureWarning: A value is trying to be set on a copy of a DataFrame or Series through chained assignment using an inplace method.\n",
      "The behavior will change in pandas 3.0. This inplace method will never work because the intermediate object on which we are setting values always behaves as a copy.\n",
      "\n",
      "For example, when doing 'df[col].method(value, inplace=True)', try using 'df.method({col: value}, inplace=True)' or df[col] = df[col].method(value) instead, to perform the operation inplace on the original object.\n",
      "\n",
      "\n",
      "  df[new_col_name].fillna(0, inplace=True)\n",
      "/var/folders/wc/2vlzlkzx2vd8xlqpnpxgcw6w0000gn/T/ipykernel_41741/470972626.py:34: FutureWarning: A value is trying to be set on a copy of a DataFrame or Series through chained assignment using an inplace method.\n",
      "The behavior will change in pandas 3.0. This inplace method will never work because the intermediate object on which we are setting values always behaves as a copy.\n",
      "\n",
      "For example, when doing 'df[col].method(value, inplace=True)', try using 'df.method({col: value}, inplace=True)' or df[col] = df[col].method(value) instead, to perform the operation inplace on the original object.\n",
      "\n",
      "\n",
      "  df[new_col_name].fillna(0, inplace=True)\n",
      "/var/folders/wc/2vlzlkzx2vd8xlqpnpxgcw6w0000gn/T/ipykernel_41741/470972626.py:34: FutureWarning: A value is trying to be set on a copy of a DataFrame or Series through chained assignment using an inplace method.\n",
      "The behavior will change in pandas 3.0. This inplace method will never work because the intermediate object on which we are setting values always behaves as a copy.\n",
      "\n",
      "For example, when doing 'df[col].method(value, inplace=True)', try using 'df.method({col: value}, inplace=True)' or df[col] = df[col].method(value) instead, to perform the operation inplace on the original object.\n",
      "\n",
      "\n",
      "  df[new_col_name].fillna(0, inplace=True)\n",
      "/var/folders/wc/2vlzlkzx2vd8xlqpnpxgcw6w0000gn/T/ipykernel_41741/470972626.py:34: FutureWarning: A value is trying to be set on a copy of a DataFrame or Series through chained assignment using an inplace method.\n",
      "The behavior will change in pandas 3.0. This inplace method will never work because the intermediate object on which we are setting values always behaves as a copy.\n",
      "\n",
      "For example, when doing 'df[col].method(value, inplace=True)', try using 'df.method({col: value}, inplace=True)' or df[col] = df[col].method(value) instead, to perform the operation inplace on the original object.\n",
      "\n",
      "\n",
      "  df[new_col_name].fillna(0, inplace=True)\n",
      "/var/folders/wc/2vlzlkzx2vd8xlqpnpxgcw6w0000gn/T/ipykernel_41741/470972626.py:34: FutureWarning: A value is trying to be set on a copy of a DataFrame or Series through chained assignment using an inplace method.\n",
      "The behavior will change in pandas 3.0. This inplace method will never work because the intermediate object on which we are setting values always behaves as a copy.\n",
      "\n",
      "For example, when doing 'df[col].method(value, inplace=True)', try using 'df.method({col: value}, inplace=True)' or df[col] = df[col].method(value) instead, to perform the operation inplace on the original object.\n",
      "\n",
      "\n",
      "  df[new_col_name].fillna(0, inplace=True)\n",
      "/var/folders/wc/2vlzlkzx2vd8xlqpnpxgcw6w0000gn/T/ipykernel_41741/470972626.py:34: FutureWarning: A value is trying to be set on a copy of a DataFrame or Series through chained assignment using an inplace method.\n",
      "The behavior will change in pandas 3.0. This inplace method will never work because the intermediate object on which we are setting values always behaves as a copy.\n",
      "\n",
      "For example, when doing 'df[col].method(value, inplace=True)', try using 'df.method({col: value}, inplace=True)' or df[col] = df[col].method(value) instead, to perform the operation inplace on the original object.\n",
      "\n",
      "\n",
      "  df[new_col_name].fillna(0, inplace=True)\n",
      "/var/folders/wc/2vlzlkzx2vd8xlqpnpxgcw6w0000gn/T/ipykernel_41741/470972626.py:34: FutureWarning: A value is trying to be set on a copy of a DataFrame or Series through chained assignment using an inplace method.\n",
      "The behavior will change in pandas 3.0. This inplace method will never work because the intermediate object on which we are setting values always behaves as a copy.\n",
      "\n",
      "For example, when doing 'df[col].method(value, inplace=True)', try using 'df.method({col: value}, inplace=True)' or df[col] = df[col].method(value) instead, to perform the operation inplace on the original object.\n",
      "\n",
      "\n",
      "  df[new_col_name].fillna(0, inplace=True)\n",
      "/var/folders/wc/2vlzlkzx2vd8xlqpnpxgcw6w0000gn/T/ipykernel_41741/470972626.py:34: FutureWarning: A value is trying to be set on a copy of a DataFrame or Series through chained assignment using an inplace method.\n",
      "The behavior will change in pandas 3.0. This inplace method will never work because the intermediate object on which we are setting values always behaves as a copy.\n",
      "\n",
      "For example, when doing 'df[col].method(value, inplace=True)', try using 'df.method({col: value}, inplace=True)' or df[col] = df[col].method(value) instead, to perform the operation inplace on the original object.\n",
      "\n",
      "\n",
      "  df[new_col_name].fillna(0, inplace=True)\n",
      "/var/folders/wc/2vlzlkzx2vd8xlqpnpxgcw6w0000gn/T/ipykernel_41741/470972626.py:34: FutureWarning: A value is trying to be set on a copy of a DataFrame or Series through chained assignment using an inplace method.\n",
      "The behavior will change in pandas 3.0. This inplace method will never work because the intermediate object on which we are setting values always behaves as a copy.\n",
      "\n",
      "For example, when doing 'df[col].method(value, inplace=True)', try using 'df.method({col: value}, inplace=True)' or df[col] = df[col].method(value) instead, to perform the operation inplace on the original object.\n",
      "\n",
      "\n",
      "  df[new_col_name].fillna(0, inplace=True)\n",
      "/var/folders/wc/2vlzlkzx2vd8xlqpnpxgcw6w0000gn/T/ipykernel_41741/470972626.py:34: FutureWarning: A value is trying to be set on a copy of a DataFrame or Series through chained assignment using an inplace method.\n",
      "The behavior will change in pandas 3.0. This inplace method will never work because the intermediate object on which we are setting values always behaves as a copy.\n",
      "\n",
      "For example, when doing 'df[col].method(value, inplace=True)', try using 'df.method({col: value}, inplace=True)' or df[col] = df[col].method(value) instead, to perform the operation inplace on the original object.\n",
      "\n",
      "\n",
      "  df[new_col_name].fillna(0, inplace=True)\n",
      "/var/folders/wc/2vlzlkzx2vd8xlqpnpxgcw6w0000gn/T/ipykernel_41741/470972626.py:34: FutureWarning: A value is trying to be set on a copy of a DataFrame or Series through chained assignment using an inplace method.\n",
      "The behavior will change in pandas 3.0. This inplace method will never work because the intermediate object on which we are setting values always behaves as a copy.\n",
      "\n",
      "For example, when doing 'df[col].method(value, inplace=True)', try using 'df.method({col: value}, inplace=True)' or df[col] = df[col].method(value) instead, to perform the operation inplace on the original object.\n",
      "\n",
      "\n",
      "  df[new_col_name].fillna(0, inplace=True)\n",
      "/var/folders/wc/2vlzlkzx2vd8xlqpnpxgcw6w0000gn/T/ipykernel_41741/470972626.py:34: FutureWarning: A value is trying to be set on a copy of a DataFrame or Series through chained assignment using an inplace method.\n",
      "The behavior will change in pandas 3.0. This inplace method will never work because the intermediate object on which we are setting values always behaves as a copy.\n",
      "\n",
      "For example, when doing 'df[col].method(value, inplace=True)', try using 'df.method({col: value}, inplace=True)' or df[col] = df[col].method(value) instead, to perform the operation inplace on the original object.\n",
      "\n",
      "\n",
      "  df[new_col_name].fillna(0, inplace=True)\n"
     ]
    }
   ],
   "source": [
    "rolling_avg_columns = ['PTS', 'FG_PCT', 'FG3_PCT', 'FT_PCT', 'AST', 'REB', 'TOV', 'PTS_QTR1', 'PTS_QTR2', 'PTS_QTR3', 'PTS_QTR4', 'PTS_OT1', 'PTS_OT2', 'PTS_OT3', 'PTS_OT4', 'PTS_OT5', 'PTS_OT6', 'PTS_OT7', 'PTS_OT8', 'PTS_OT9', 'PTS_OT10']\n",
    "\n",
    "for column in rolling_avg_columns:\n",
    "    full_data = add_rolling_avg_by_year(full_data, ['TEAM_ID', 'YEAR'], column, f'AVG_{column}')"
   ]
  },
  {
   "cell_type": "code",
   "execution_count": 55,
   "id": "ac127908",
   "metadata": {},
   "outputs": [
    {
     "data": {
      "text/plain": [
       "Index(['Date', 'GAME_SEQUENCE', 'GAME_ID', 'TEAM_ID', 'TEAM_ABBREVIATION',\n",
       "       'TEAM_CITY_NAME', 'TEAM_WINS_LOSSES', 'PTS_QTR1', 'PTS_QTR2',\n",
       "       'PTS_QTR3', 'PTS_QTR4', 'PTS_OT1', 'PTS_OT2', 'PTS_OT3', 'PTS_OT4',\n",
       "       'PTS_OT5', 'PTS_OT6', 'PTS_OT7', 'PTS_OT8', 'PTS_OT9', 'PTS_OT10',\n",
       "       'PTS', 'FG_PCT', 'FT_PCT', 'FG3_PCT', 'AST', 'REB', 'TOV', 'YEAR',\n",
       "       'GAME_DATE_EST', 'AVG_PTS', 'AVG_FG_PCT', 'AVG_FG3_PCT', 'AVG_FT_PCT',\n",
       "       'AVG_AST', 'AVG_REB', 'AVG_TOV', 'AVG_PTS_QTR1', 'AVG_PTS_QTR2',\n",
       "       'AVG_PTS_QTR3', 'AVG_PTS_QTR4', 'AVG_PTS_OT1', 'AVG_PTS_OT2',\n",
       "       'AVG_PTS_OT3', 'AVG_PTS_OT4', 'AVG_PTS_OT5', 'AVG_PTS_OT6',\n",
       "       'AVG_PTS_OT7', 'AVG_PTS_OT8', 'AVG_PTS_OT9', 'AVG_PTS_OT10'],\n",
       "      dtype='object')"
      ]
     },
     "execution_count": 55,
     "metadata": {},
     "output_type": "execute_result"
    }
   ],
   "source": [
    "full_data.columns"
   ]
  },
  {
   "cell_type": "code",
   "execution_count": 50,
   "id": "d78ef641",
   "metadata": {},
   "outputs": [
    {
     "data": {
      "text/plain": [
       "0          0.000000\n",
       "1          0.000000\n",
       "2          0.000000\n",
       "3          0.000000\n",
       "4          0.000000\n",
       "            ...    \n",
       "17221    110.814815\n",
       "17222    111.407407\n",
       "17223    114.802469\n",
       "17224    113.975309\n",
       "17225    114.395062\n",
       "Name: AVG_PTS, Length: 17226, dtype: float64"
      ]
     },
     "execution_count": 50,
     "metadata": {},
     "output_type": "execute_result"
    }
   ],
   "source": [
    "full_data['AVG_PTS']"
   ]
  },
  {
   "cell_type": "code",
   "execution_count": 54,
   "id": "4bce87ef",
   "metadata": {},
   "outputs": [],
   "source": [
    "full_data.to_csv('Data/combined/full_raw_data_with_rolling_averages.csv', index=False)"
   ]
  },
  {
   "cell_type": "code",
   "execution_count": null,
   "id": "e3b921e6",
   "metadata": {},
   "outputs": [],
   "source": []
  }
 ],
 "metadata": {
  "kernelspec": {
   "display_name": "test",
   "language": "python",
   "name": "python3"
  },
  "language_info": {
   "codemirror_mode": {
    "name": "ipython",
    "version": 3
   },
   "file_extension": ".py",
   "mimetype": "text/x-python",
   "name": "python",
   "nbconvert_exporter": "python",
   "pygments_lexer": "ipython3",
   "version": "3.12.3"
  }
 },
 "nbformat": 4,
 "nbformat_minor": 5
}
