{
 "cells": [
  {
   "cell_type": "code",
   "execution_count": 1,
   "metadata": {},
   "outputs": [],
   "source": [
    "import pandas as pd\n",
    "import numpy as np\n",
    "from sklearn.model_selection import train_test_split\n",
    "from sklearn.preprocessing import StandardScaler\n",
    "import tensorflow as tf\n",
    "from tensorflow import keras\n",
    "from tensorflow.keras import layers\n",
    "import matplotlib.pyplot as plt"
   ]
  },
  {
   "cell_type": "code",
   "execution_count": 12,
   "metadata": {},
   "outputs": [],
   "source": [
    "# -------------------------------\n",
    "# 1. Data Loading\n",
    "# -------------------------------\n",
    "# Load the team performance data (with rolling averages)\n",
    "raw_data = pd.read_csv('DL_project/Data/combined/full_raw_data_with_rolling_averages.csv')\n",
    "\n",
    "# Load the betting (Vegas) data\n",
    "vegas_data = pd.read_csv('DL_project/Data/combined/full_vegas_data.csv')"
   ]
  },
  {
   "cell_type": "code",
   "execution_count": 13,
   "metadata": {},
   "outputs": [
    {
     "name": "stdout",
     "output_type": "stream",
     "text": [
      "Merged Data Columns: ['GAME_DATE_EST', 'GAME_SEQUENCE', 'GAME_ID', 'TEAM_ID', 'TEAM_ABBREVIATION', 'TEAM_CITY_NAME', 'TEAM_WINS_LOSSES', 'PTS_QTR1', 'PTS_QTR2', 'PTS_QTR3', 'PTS_QTR4', 'PTS_OT1', 'PTS_OT2', 'PTS_OT3', 'PTS_OT4', 'PTS_OT5', 'PTS_OT6', 'PTS_OT7', 'PTS_OT8', 'PTS_OT9', 'PTS_OT10', 'PTS', 'FG_PCT', 'FT_PCT', 'FG3_PCT', 'AST', 'REB', 'TOV', 'YEAR_x', 'AVG_PTS', 'AVG_FG_PCT', 'AVG_FG3_PCT', 'AVG_FT_PCT', 'AVG_AST', 'AVG_REB', 'AVG_TOV', 'AVG_PTS_QTR1', 'AVG_PTS_QTR2', 'AVG_PTS_QTR3', 'AVG_PTS_QTR4', 'AVG_PTS_OT1', 'AVG_PTS_OT2', 'AVG_PTS_OT3', 'AVG_PTS_OT4', 'AVG_PTS_OT5', 'AVG_PTS_OT6', 'AVG_PTS_OT7', 'AVG_PTS_OT8', 'AVG_PTS_OT9', 'AVG_PTS_OT10', 'Date', 'Location', 'Team', 'OppTeam', 'TeamId', 'PercentBet_ML', 'Open_Line_ML', 'Pinnacle_ML', '5dimes_ML', 'Heritage_ML', 'Bovada_ML', 'Betonline_ML', 'Average_Line_ML', 'Best_Line_ML', 'Worst_Line_ML', 'PercentBet_Spread', 'Open_Line_Spread', 'Open_Odds_Spread', 'Pinnacle_Line_Spread', 'Pinnacle_Odds_Spread', '5dimes_Line_Spread', '5dimes_Odds_Spread', 'Heritage_Line_Spread', 'Heritage_Odds_Spread', 'Bovada_Line_Spread', 'Bovada_Odds_Spread', 'Betonline_Line_Spread', 'Betonline_Odds_Spread', 'Average_Line_Spread', 'Average_Odds_Spread', 'Best_Line_Spread', 'Worst_Line_Spread', 'Best_Odds_Spread', 'Worst_Odds_Spread', 'PercentBet_OU', 'Open_Line_OU', 'Open_Odds_OU', 'Pinnacle_Line_OU', 'Pinnacle_Odds_OU', '5dimes_Line_OU', '5dimes_Odds_OU', 'Heritage_Line_OU', 'Heritage_Odds_OU', 'Bovada_Line_OU', 'Bovada_Odds_OU', 'Betonline_Line_OU', 'Betonline_Odds_OU', 'Average_Line_OU', 'Average_Odds_OU', 'Best_Line_OU', 'Worst_Line_OU', 'Best_Odds_OU', 'Worst_Odds_OU', 'Pts', 'Spread', 'Result', 'Total', 'YEAR_y']\n",
      "First 5 rows of merged data:\n",
      "  GAME_DATE_EST  GAME_SEQUENCE   GAME_ID     TEAM_ID TEAM_ABBREVIATION  \\\n",
      "0    2012-10-30              1  21200001  1610612764               WAS   \n",
      "1    2012-10-30              1  21200001  1610612764               WAS   \n",
      "2    2012-10-30              1  21200001  1610612739               CLE   \n",
      "3    2012-10-30              1  21200001  1610612739               CLE   \n",
      "4    2012-10-30              2  21200002  1610612738               BOS   \n",
      "\n",
      "  TEAM_CITY_NAME TEAM_WINS_LOSSES  PTS_QTR1  PTS_QTR2  PTS_QTR3  ...  \\\n",
      "0     Washington              0-1        24        15        23  ...   \n",
      "1     Washington              0-1        24        15        23  ...   \n",
      "2      Cleveland              1-0        31        19        24  ...   \n",
      "3      Cleveland              1-0        31        19        24  ...   \n",
      "4         Boston              0-1        25        29        22  ...   \n",
      "\n",
      "   Average_Odds_OU  Best_Line_OU  Worst_Line_OU  Best_Odds_OU  Worst_Odds_OU  \\\n",
      "0          -108.17         191.0          187.0        -104.0         -110.0   \n",
      "1          -110.17         191.0          187.0        -106.0         -115.0   \n",
      "2          -108.17         191.0          187.0        -104.0         -110.0   \n",
      "3          -110.17         191.0          187.0        -106.0         -115.0   \n",
      "4          -107.33         188.0          182.0        -104.0         -110.0   \n",
      "\n",
      "     Pts  Spread  Result  Total     YEAR_y  \n",
      "0   84.0   -10.0       L  178.0  2012-2013  \n",
      "1   94.0    10.0       W  178.0  2012-2013  \n",
      "2   84.0   -10.0       L  178.0  2012-2013  \n",
      "3   94.0    10.0       W  178.0  2012-2013  \n",
      "4  107.0   -13.0       L  227.0  2012-2013  \n",
      "\n",
      "[5 rows x 108 columns]\n"
     ]
    }
   ],
   "source": [
    "# -------------------------------\n",
    "# 2. Data Merging & Inspection\n",
    "# -------------------------------\n",
    "# Merge the datasets on a common key.\n",
    "# Here we assume that both datasets have a common column, e.g. 'game_id'.\n",
    "# Adjust the key column(s) based on your actual data.\n",
    "vegas_data = vegas_data.rename(columns={'GameId': 'GAME_ID'})\n",
    "data = pd.merge(raw_data, vegas_data, on='GAME_ID', how='inner')\n",
    "\n",
    "# Inspect the merged data\n",
    "print(\"Merged Data Columns:\", data.columns.tolist())\n",
    "print(\"First 5 rows of merged data:\")\n",
    "print(data.head())"
   ]
  },
  {
   "cell_type": "code",
   "execution_count": 14,
   "metadata": {},
   "outputs": [
    {
     "ename": "KeyError",
     "evalue": "\"['game_id', 'win'] not found in axis\"",
     "output_type": "error",
     "traceback": [
      "\u001b[0;31m---------------------------------------------------------------------------\u001b[0m",
      "\u001b[0;31mKeyError\u001b[0m                                  Traceback (most recent call last)",
      "Cell \u001b[0;32mIn[14], line 18\u001b[0m\n\u001b[1;32m     15\u001b[0m drop_columns \u001b[38;5;241m=\u001b[39m [\u001b[38;5;124m'\u001b[39m\u001b[38;5;124mgame_id\u001b[39m\u001b[38;5;124m'\u001b[39m, \u001b[38;5;124m'\u001b[39m\u001b[38;5;124mwin\u001b[39m\u001b[38;5;124m'\u001b[39m]  \u001b[38;5;66;03m# adjust as needed\u001b[39;00m\n\u001b[1;32m     17\u001b[0m \u001b[38;5;66;03m# Select features (all numeric columns except the ones dropped)\u001b[39;00m\n\u001b[0;32m---> 18\u001b[0m X \u001b[38;5;241m=\u001b[39m \u001b[43mdata\u001b[49m\u001b[38;5;241;43m.\u001b[39;49m\u001b[43mdrop\u001b[49m\u001b[43m(\u001b[49m\u001b[43mcolumns\u001b[49m\u001b[38;5;241;43m=\u001b[39;49m\u001b[43mdrop_columns\u001b[49m\u001b[43m)\u001b[49m\n\u001b[1;32m     19\u001b[0m y \u001b[38;5;241m=\u001b[39m data[\u001b[38;5;124m'\u001b[39m\u001b[38;5;124mwin\u001b[39m\u001b[38;5;124m'\u001b[39m]\n\u001b[1;32m     21\u001b[0m \u001b[38;5;66;03m# Check for missing values (if necessary, you might want to fill or drop them)\u001b[39;00m\n",
      "File \u001b[0;32m/opt/miniconda3/envs/test/lib/python3.12/site-packages/pandas/core/frame.py:5581\u001b[0m, in \u001b[0;36mDataFrame.drop\u001b[0;34m(self, labels, axis, index, columns, level, inplace, errors)\u001b[0m\n\u001b[1;32m   5433\u001b[0m \u001b[38;5;28;01mdef\u001b[39;00m \u001b[38;5;21mdrop\u001b[39m(\n\u001b[1;32m   5434\u001b[0m     \u001b[38;5;28mself\u001b[39m,\n\u001b[1;32m   5435\u001b[0m     labels: IndexLabel \u001b[38;5;241m|\u001b[39m \u001b[38;5;28;01mNone\u001b[39;00m \u001b[38;5;241m=\u001b[39m \u001b[38;5;28;01mNone\u001b[39;00m,\n\u001b[0;32m   (...)\u001b[0m\n\u001b[1;32m   5442\u001b[0m     errors: IgnoreRaise \u001b[38;5;241m=\u001b[39m \u001b[38;5;124m\"\u001b[39m\u001b[38;5;124mraise\u001b[39m\u001b[38;5;124m\"\u001b[39m,\n\u001b[1;32m   5443\u001b[0m ) \u001b[38;5;241m-\u001b[39m\u001b[38;5;241m>\u001b[39m DataFrame \u001b[38;5;241m|\u001b[39m \u001b[38;5;28;01mNone\u001b[39;00m:\n\u001b[1;32m   5444\u001b[0m \u001b[38;5;250m    \u001b[39m\u001b[38;5;124;03m\"\"\"\u001b[39;00m\n\u001b[1;32m   5445\u001b[0m \u001b[38;5;124;03m    Drop specified labels from rows or columns.\u001b[39;00m\n\u001b[1;32m   5446\u001b[0m \n\u001b[0;32m   (...)\u001b[0m\n\u001b[1;32m   5579\u001b[0m \u001b[38;5;124;03m            weight  1.0     0.8\u001b[39;00m\n\u001b[1;32m   5580\u001b[0m \u001b[38;5;124;03m    \"\"\"\u001b[39;00m\n\u001b[0;32m-> 5581\u001b[0m     \u001b[38;5;28;01mreturn\u001b[39;00m \u001b[38;5;28;43msuper\u001b[39;49m\u001b[43m(\u001b[49m\u001b[43m)\u001b[49m\u001b[38;5;241;43m.\u001b[39;49m\u001b[43mdrop\u001b[49m\u001b[43m(\u001b[49m\n\u001b[1;32m   5582\u001b[0m \u001b[43m        \u001b[49m\u001b[43mlabels\u001b[49m\u001b[38;5;241;43m=\u001b[39;49m\u001b[43mlabels\u001b[49m\u001b[43m,\u001b[49m\n\u001b[1;32m   5583\u001b[0m \u001b[43m        \u001b[49m\u001b[43maxis\u001b[49m\u001b[38;5;241;43m=\u001b[39;49m\u001b[43maxis\u001b[49m\u001b[43m,\u001b[49m\n\u001b[1;32m   5584\u001b[0m \u001b[43m        \u001b[49m\u001b[43mindex\u001b[49m\u001b[38;5;241;43m=\u001b[39;49m\u001b[43mindex\u001b[49m\u001b[43m,\u001b[49m\n\u001b[1;32m   5585\u001b[0m \u001b[43m        \u001b[49m\u001b[43mcolumns\u001b[49m\u001b[38;5;241;43m=\u001b[39;49m\u001b[43mcolumns\u001b[49m\u001b[43m,\u001b[49m\n\u001b[1;32m   5586\u001b[0m \u001b[43m        \u001b[49m\u001b[43mlevel\u001b[49m\u001b[38;5;241;43m=\u001b[39;49m\u001b[43mlevel\u001b[49m\u001b[43m,\u001b[49m\n\u001b[1;32m   5587\u001b[0m \u001b[43m        \u001b[49m\u001b[43minplace\u001b[49m\u001b[38;5;241;43m=\u001b[39;49m\u001b[43minplace\u001b[49m\u001b[43m,\u001b[49m\n\u001b[1;32m   5588\u001b[0m \u001b[43m        \u001b[49m\u001b[43merrors\u001b[49m\u001b[38;5;241;43m=\u001b[39;49m\u001b[43merrors\u001b[49m\u001b[43m,\u001b[49m\n\u001b[1;32m   5589\u001b[0m \u001b[43m    \u001b[49m\u001b[43m)\u001b[49m\n",
      "File \u001b[0;32m/opt/miniconda3/envs/test/lib/python3.12/site-packages/pandas/core/generic.py:4788\u001b[0m, in \u001b[0;36mNDFrame.drop\u001b[0;34m(self, labels, axis, index, columns, level, inplace, errors)\u001b[0m\n\u001b[1;32m   4786\u001b[0m \u001b[38;5;28;01mfor\u001b[39;00m axis, labels \u001b[38;5;129;01min\u001b[39;00m axes\u001b[38;5;241m.\u001b[39mitems():\n\u001b[1;32m   4787\u001b[0m     \u001b[38;5;28;01mif\u001b[39;00m labels \u001b[38;5;129;01mis\u001b[39;00m \u001b[38;5;129;01mnot\u001b[39;00m \u001b[38;5;28;01mNone\u001b[39;00m:\n\u001b[0;32m-> 4788\u001b[0m         obj \u001b[38;5;241m=\u001b[39m \u001b[43mobj\u001b[49m\u001b[38;5;241;43m.\u001b[39;49m\u001b[43m_drop_axis\u001b[49m\u001b[43m(\u001b[49m\u001b[43mlabels\u001b[49m\u001b[43m,\u001b[49m\u001b[43m \u001b[49m\u001b[43maxis\u001b[49m\u001b[43m,\u001b[49m\u001b[43m \u001b[49m\u001b[43mlevel\u001b[49m\u001b[38;5;241;43m=\u001b[39;49m\u001b[43mlevel\u001b[49m\u001b[43m,\u001b[49m\u001b[43m \u001b[49m\u001b[43merrors\u001b[49m\u001b[38;5;241;43m=\u001b[39;49m\u001b[43merrors\u001b[49m\u001b[43m)\u001b[49m\n\u001b[1;32m   4790\u001b[0m \u001b[38;5;28;01mif\u001b[39;00m inplace:\n\u001b[1;32m   4791\u001b[0m     \u001b[38;5;28mself\u001b[39m\u001b[38;5;241m.\u001b[39m_update_inplace(obj)\n",
      "File \u001b[0;32m/opt/miniconda3/envs/test/lib/python3.12/site-packages/pandas/core/generic.py:4830\u001b[0m, in \u001b[0;36mNDFrame._drop_axis\u001b[0;34m(self, labels, axis, level, errors, only_slice)\u001b[0m\n\u001b[1;32m   4828\u001b[0m         new_axis \u001b[38;5;241m=\u001b[39m axis\u001b[38;5;241m.\u001b[39mdrop(labels, level\u001b[38;5;241m=\u001b[39mlevel, errors\u001b[38;5;241m=\u001b[39merrors)\n\u001b[1;32m   4829\u001b[0m     \u001b[38;5;28;01melse\u001b[39;00m:\n\u001b[0;32m-> 4830\u001b[0m         new_axis \u001b[38;5;241m=\u001b[39m \u001b[43maxis\u001b[49m\u001b[38;5;241;43m.\u001b[39;49m\u001b[43mdrop\u001b[49m\u001b[43m(\u001b[49m\u001b[43mlabels\u001b[49m\u001b[43m,\u001b[49m\u001b[43m \u001b[49m\u001b[43merrors\u001b[49m\u001b[38;5;241;43m=\u001b[39;49m\u001b[43merrors\u001b[49m\u001b[43m)\u001b[49m\n\u001b[1;32m   4831\u001b[0m     indexer \u001b[38;5;241m=\u001b[39m axis\u001b[38;5;241m.\u001b[39mget_indexer(new_axis)\n\u001b[1;32m   4833\u001b[0m \u001b[38;5;66;03m# Case for non-unique axis\u001b[39;00m\n\u001b[1;32m   4834\u001b[0m \u001b[38;5;28;01melse\u001b[39;00m:\n",
      "File \u001b[0;32m/opt/miniconda3/envs/test/lib/python3.12/site-packages/pandas/core/indexes/base.py:7070\u001b[0m, in \u001b[0;36mIndex.drop\u001b[0;34m(self, labels, errors)\u001b[0m\n\u001b[1;32m   7068\u001b[0m \u001b[38;5;28;01mif\u001b[39;00m mask\u001b[38;5;241m.\u001b[39many():\n\u001b[1;32m   7069\u001b[0m     \u001b[38;5;28;01mif\u001b[39;00m errors \u001b[38;5;241m!=\u001b[39m \u001b[38;5;124m\"\u001b[39m\u001b[38;5;124mignore\u001b[39m\u001b[38;5;124m\"\u001b[39m:\n\u001b[0;32m-> 7070\u001b[0m         \u001b[38;5;28;01mraise\u001b[39;00m \u001b[38;5;167;01mKeyError\u001b[39;00m(\u001b[38;5;124mf\u001b[39m\u001b[38;5;124m\"\u001b[39m\u001b[38;5;132;01m{\u001b[39;00mlabels[mask]\u001b[38;5;241m.\u001b[39mtolist()\u001b[38;5;132;01m}\u001b[39;00m\u001b[38;5;124m not found in axis\u001b[39m\u001b[38;5;124m\"\u001b[39m)\n\u001b[1;32m   7071\u001b[0m     indexer \u001b[38;5;241m=\u001b[39m indexer[\u001b[38;5;241m~\u001b[39mmask]\n\u001b[1;32m   7072\u001b[0m \u001b[38;5;28;01mreturn\u001b[39;00m \u001b[38;5;28mself\u001b[39m\u001b[38;5;241m.\u001b[39mdelete(indexer)\n",
      "\u001b[0;31mKeyError\u001b[0m: \"['game_id', 'win'] not found in axis\""
     ]
    }
   ],
   "source": [
    "# -------------------------------\n",
    "# 3. Data Preprocessing\n",
    "# -------------------------------\n",
    "# For this example, we assume:\n",
    "# - The model inputs include various team per game statistics (e.g. points, rebounds, assists, etc.),\n",
    "#   the team’s record to date (e.g. win percentage), and betting data (e.g. favorite indicator and\n",
    "#   percentage of bets placed).\n",
    "#\n",
    "# - The target variable is a binary indicator (e.g. 'win') where 1 means the team won the game\n",
    "#   and 0 means the team lost.\n",
    "#\n",
    "# You may need to change the feature and target column names based on your data.\n",
    "#\n",
    "# Here we drop columns that are identifiers and the target column from our features.\n",
    "drop_columns = ['game_id', 'win']  # adjust as needed\n",
    "\n",
    "# Select features (all numeric columns except the ones dropped)\n",
    "X = data.drop(columns=drop_columns)\n",
    "y = data['win']\n",
    "\n",
    "# Check for missing values (if necessary, you might want to fill or drop them)\n",
    "print(\"Missing values per column:\\n\", X.isnull().sum())\n",
    "\n",
    "# Optionally, fill missing values (example: fill numeric columns with the column mean)\n",
    "X = X.fillna(X.mean())\n",
    "\n",
    "# Standardize the features\n",
    "scaler = StandardScaler()\n",
    "X_scaled = scaler.fit_transform(X)"
   ]
  },
  {
   "cell_type": "code",
   "execution_count": null,
   "metadata": {},
   "outputs": [],
   "source": []
  }
 ],
 "metadata": {
  "kernelspec": {
   "display_name": "test",
   "language": "python",
   "name": "python3"
  },
  "language_info": {
   "codemirror_mode": {
    "name": "ipython",
    "version": 3
   },
   "file_extension": ".py",
   "mimetype": "text/x-python",
   "name": "python",
   "nbconvert_exporter": "python",
   "pygments_lexer": "ipython3",
   "version": "3.12.3"
  }
 },
 "nbformat": 4,
 "nbformat_minor": 2
}
