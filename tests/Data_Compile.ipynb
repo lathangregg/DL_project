{
 "cells": [
  {
   "cell_type": "code",
   "execution_count": 2,
   "id": "4a6540df-2f34-4314-bc0f-f4cce5c47ad1",
   "metadata": {},
   "outputs": [],
   "source": [
    "import numpy as np\n",
    "import pandas as pd"
   ]
  },
  {
   "cell_type": "code",
   "execution_count": 61,
   "id": "09b48a7e-851c-47e2-b32d-a9dc8290e6b1",
   "metadata": {},
   "outputs": [],
   "source": [
    "raw_2012 = pd.read_csv('Data/2012-13/raw_scores.txt')\n",
    "reg_vegas_2012 = pd.read_csv('Data/2012-13/vegas.txt')\n",
    "raw_2013 = pd.read_csv('Data/2013-14/raw_scores.txt')\n",
    "reg_vegas_2013 = pd.read_csv('Data/2013-14/vegas.txt')\n",
    "raw_2014 = pd.read_csv('Data/2014-15/raw_scores.txt')\n",
    "reg_vegas_2014 = pd.read_csv('Data/2014-15/vegas.txt')\n",
    "raw_2015 = pd.read_csv('Data/2015-16/raw_scores.txt')\n",
    "reg_vegas_2015 = pd.read_csv('Data/2015-16/vegas.txt')\n",
    "raw_2016 = pd.read_csv('Data/2016-17/raw_scores.txt')\n",
    "reg_vegas_2016 = pd.read_csv('Data/2016-17/vegas.txt')\n",
    "raw_2017 = pd.read_csv('Data/2017-18/raw_scores.txt')\n",
    "reg_vegas_2017 = pd.read_csv('Data/2017-18/vegas.txt')\n",
    "raw_2018 = pd.read_csv('Data/2018-19/raw_scores.txt')\n",
    "reg_vegas_2018 = pd.read_csv('Data/2018-19/vegas.txt')"
   ]
  },
  {
   "cell_type": "code",
   "execution_count": 85,
   "id": "6ff89e74",
   "metadata": {},
   "outputs": [],
   "source": [
    "raw_data = [raw_2012, raw_2013, raw_2014, raw_2015, raw_2016, raw_2017, raw_2018]\n",
    "\n",
    "for frame in raw_data:\n",
    "    if 'Unnamed: 0' in frame.columns:\n",
    "        frame.rename(columns={'Unnamed: 0': 'GAME_DATE_EST'}, inplace=True)"
   ]
  },
  {
   "cell_type": "code",
   "execution_count": 87,
   "id": "fb521fe3",
   "metadata": {},
   "outputs": [
    {
     "data": {
      "text/plain": [
       "GAME_DATE_EST        0\n",
       "GAME_SEQUENCE        0\n",
       "GAME_ID              0\n",
       "TEAM_ID              0\n",
       "TEAM_ABBREVIATION    0\n",
       "TEAM_CITY_NAME       0\n",
       "TEAM_WINS_LOSSES     0\n",
       "PTS_QTR1             0\n",
       "PTS_QTR2             0\n",
       "PTS_QTR3             0\n",
       "PTS_QTR4             0\n",
       "PTS_OT1              0\n",
       "PTS_OT2              0\n",
       "PTS_OT3              0\n",
       "PTS_OT4              0\n",
       "PTS_OT5              2\n",
       "PTS_OT6              2\n",
       "PTS_OT7              2\n",
       "PTS_OT8              2\n",
       "PTS_OT9              2\n",
       "PTS_OT10             2\n",
       "PTS                  0\n",
       "FG_PCT               0\n",
       "FT_PCT               0\n",
       "FG3_PCT              0\n",
       "AST                  0\n",
       "REB                  0\n",
       "TOV                  0\n",
       "YEAR                 0\n",
       "dtype: int64"
      ]
     },
     "execution_count": 87,
     "metadata": {},
     "output_type": "execute_result"
    }
   ],
   "source": [
    "count = 0\n",
    "for frame in raw_data:\n",
    "    frame['YEAR'] = f'{2012 + count}-{2013+count}'\n",
    "    count += 1\n",
    "\n",
    "full_data = pd.concat(raw_data)\n",
    "full_data.isna().sum()"
   ]
  },
  {
   "cell_type": "code",
   "execution_count": 7,
   "id": "5ae3c965",
   "metadata": {},
   "outputs": [],
   "source": [
    "full_data = pd.read_csv('/Users/trent/Documents/MSDS/Deep/Final Project/DL_project/Data/combined/full_raw_data_with_rolling_averages.csv')\n",
    "full_vegas_data = pd.read_csv('/Users/trent/Documents/MSDS/Deep/Final Project/DL_project/Data/combined/full_vegas_data.csv')"
   ]
  },
  {
   "cell_type": "code",
   "execution_count": 8,
   "id": "9cace47e-a3eb-4fd0-a327-44a4637793cb",
   "metadata": {},
   "outputs": [
    {
     "data": {
      "text/plain": [
       "Index(['Date', 'Location', 'Team', 'OppTeam', 'TeamId', 'GameId',\n",
       "       'PercentBet_ML', 'Open_Line_ML', 'Pinnacle_ML', '5dimes_ML',\n",
       "       'Heritage_ML', 'Bovada_ML', 'Betonline_ML', 'Average_Line_ML',\n",
       "       'Best_Line_ML', 'Worst_Line_ML', 'PercentBet_Spread',\n",
       "       'Open_Line_Spread', 'Open_Odds_Spread', 'Pinnacle_Line_Spread',\n",
       "       'Pinnacle_Odds_Spread', '5dimes_Line_Spread', '5dimes_Odds_Spread',\n",
       "       'Heritage_Line_Spread', 'Heritage_Odds_Spread', 'Bovada_Line_Spread',\n",
       "       'Bovada_Odds_Spread', 'Betonline_Line_Spread', 'Betonline_Odds_Spread',\n",
       "       'Average_Line_Spread', 'Average_Odds_Spread', 'Best_Line_Spread',\n",
       "       'Worst_Line_Spread', 'Best_Odds_Spread', 'Worst_Odds_Spread',\n",
       "       'PercentBet_OU', 'Open_Line_OU', 'Open_Odds_OU', 'Pinnacle_Line_OU',\n",
       "       'Pinnacle_Odds_OU', '5dimes_Line_OU', '5dimes_Odds_OU',\n",
       "       'Heritage_Line_OU', 'Heritage_Odds_OU', 'Bovada_Line_OU',\n",
       "       'Bovada_Odds_OU', 'Betonline_Line_OU', 'Betonline_Odds_OU',\n",
       "       'Average_Line_OU', 'Average_Odds_OU', 'Best_Line_OU', 'Worst_Line_OU',\n",
       "       'Best_Odds_OU', 'Worst_Odds_OU', 'Pts', 'Spread', 'Result', 'Total',\n",
       "       'YEAR'],\n",
       "      dtype='object')"
      ]
     },
     "execution_count": 8,
     "metadata": {},
     "output_type": "execute_result"
    }
   ],
   "source": [
    "full_vegas_data.columns"
   ]
  },
  {
   "cell_type": "code",
   "execution_count": 14,
   "id": "e765ab49-d70e-4528-b3f4-4cbbdf35216c",
   "metadata": {},
   "outputs": [
    {
     "data": {
      "text/plain": [
       "Index(['GAME_DATE_EST', 'GAME_SEQUENCE', 'GAME_ID', 'TEAM_ID',\n",
       "       'TEAM_ABBREVIATION', 'TEAM_CITY_NAME', 'TEAM_WINS_LOSSES', 'PTS_QTR1',\n",
       "       'PTS_QTR2', 'PTS_QTR3', 'PTS_QTR4', 'PTS_OT1', 'PTS_OT2', 'PTS_OT3',\n",
       "       'PTS_OT4', 'PTS_OT5', 'PTS_OT6', 'PTS_OT7', 'PTS_OT8', 'PTS_OT9',\n",
       "       'PTS_OT10', 'PTS', 'FG_PCT', 'FT_PCT', 'FG3_PCT', 'AST', 'REB', 'TOV',\n",
       "       'YEAR', 'AVG_PTS', 'AVG_FG_PCT', 'AVG_FG3_PCT', 'AVG_FT_PCT', 'AVG_AST',\n",
       "       'AVG_REB', 'AVG_TOV', 'AVG_PTS_QTR1', 'AVG_PTS_QTR2', 'AVG_PTS_QTR3',\n",
       "       'AVG_PTS_QTR4', 'AVG_PTS_OT1', 'AVG_PTS_OT2', 'AVG_PTS_OT3',\n",
       "       'AVG_PTS_OT4', 'AVG_PTS_OT5', 'AVG_PTS_OT6', 'AVG_PTS_OT7',\n",
       "       'AVG_PTS_OT8', 'AVG_PTS_OT9', 'AVG_PTS_OT10', 'TEAM_WINS',\n",
       "       'TEAM_LOSSES'],\n",
       "      dtype='object')"
      ]
     },
     "execution_count": 14,
     "metadata": {},
     "output_type": "execute_result"
    }
   ],
   "source": [
    "full_data.columns"
   ]
  },
  {
   "cell_type": "code",
   "execution_count": null,
   "id": "2f9a71ee",
   "metadata": {},
   "outputs": [],
   "source": [
    "# Transform the wins and losses column into one column for wins and one for losses\n",
    "full_data['TEAM_WINS_LOSSES'] = full_data['TEAM_WINS_LOSSES'].astype(str)\n",
    "full_data['TEAM_WINS_LOSSES'] = full_data['TEAM_WINS_LOSSES'].str.replace('W', '')\n",
    "full_data['TEAM_WINS_LOSSES'] = full_data['TEAM_WINS_LOSSES'].str.replace('L', '')\n",
    "full_data['TEAM_WINS_LOSSES'] = full_data['TEAM_WINS_LOSSES'].str.split('-')\n",
    "full_data['TEAM_WINS'] = full_data['TEAM_WINS_LOSSES'].str[0].astype(int)\n",
    "full_data['TEAM_LOSSES'] = full_data['TEAM_WINS_LOSSES'].str[1].astype(int)"
   ]
  },
  {
   "cell_type": "code",
   "execution_count": 92,
   "id": "88b74c58",
   "metadata": {},
   "outputs": [],
   "source": [
    "def add_rolling_average(df, group_col, value_col, new_col_name):\n",
    "    \"\"\"\n",
    "    Adds a column to the DataFrame with the rolling average of a value column,\n",
    "    grouped by another column.\n",
    "\n",
    "    Args:\n",
    "        df (pd.DataFrame): The input DataFrame.\n",
    "        group_col (str): The name of the column to group by.\n",
    "        value_col (str): The name of the column to calculate the rolling average on.\n",
    "        new_col_name (str): The name of the new column for the rolling average.\n",
    "\n",
    "    Returns:\n",
    "        pd.DataFrame: The DataFrame with the new column added.\n",
    "    \"\"\"\n",
    "    df[new_col_name] = df.groupby(group_col)[value_col].transform(lambda x: x.expanding().mean().shift(1))\n",
    "    df[new_col_name].fillna(0, inplace=True)\n",
    "    return df\n",
    "\n",
    "def add_rolling_avg_by_year(df, group_cols, value_col, new_col_name):\n",
    "    \"\"\"\n",
    "    Adds a column to the DataFrame containing the rolling average of a value column,\n",
    "    grouped by specified columns.\n",
    "\n",
    "    Args:\n",
    "        df (pd.DataFrame): The input DataFrame.\n",
    "        group_cols (list): List of column names to group by.\n",
    "        value_col (str): Name of the column to calculate the rolling average on.\n",
    "        new_col_name (str): Name of the new column to add.\n",
    "\n",
    "    Returns:\n",
    "         pd.DataFrame: The DataFrame with the new column.\n",
    "    \"\"\"\n",
    "    df[new_col_name] = df.groupby(group_cols)[value_col].transform(lambda x: x.expanding().mean().shift(1))\n",
    "    df[new_col_name].fillna(0, inplace=True)\n",
    "    return df"
   ]
  },
  {
   "cell_type": "code",
   "execution_count": 93,
   "id": "e498b80f",
   "metadata": {},
   "outputs": [
    {
     "data": {
      "text/plain": [
       "Index(['GAME_DATE_EST', 'GAME_SEQUENCE', 'GAME_ID', 'TEAM_ID',\n",
       "       'TEAM_ABBREVIATION', 'TEAM_CITY_NAME', 'TEAM_WINS_LOSSES', 'PTS_QTR1',\n",
       "       'PTS_QTR2', 'PTS_QTR3', 'PTS_QTR4', 'PTS_OT1', 'PTS_OT2', 'PTS_OT3',\n",
       "       'PTS_OT4', 'PTS_OT5', 'PTS_OT6', 'PTS_OT7', 'PTS_OT8', 'PTS_OT9',\n",
       "       'PTS_OT10', 'PTS', 'FG_PCT', 'FT_PCT', 'FG3_PCT', 'AST', 'REB', 'TOV',\n",
       "       'YEAR'],\n",
       "      dtype='object')"
      ]
     },
     "execution_count": 93,
     "metadata": {},
     "output_type": "execute_result"
    }
   ],
   "source": [
    "full_data.columns"
   ]
  },
  {
   "cell_type": "code",
   "execution_count": null,
   "id": "693dd381",
   "metadata": {},
   "outputs": [
    {
     "name": "stderr",
     "output_type": "stream",
     "text": [
      "/var/folders/wc/2vlzlkzx2vd8xlqpnpxgcw6w0000gn/T/ipykernel_41741/2380430609.py:16: FutureWarning: A value is trying to be set on a copy of a DataFrame or Series through chained assignment using an inplace method.\n",
      "The behavior will change in pandas 3.0. This inplace method will never work because the intermediate object on which we are setting values always behaves as a copy.\n",
      "\n",
      "For example, when doing 'df[col].method(value, inplace=True)', try using 'df.method({col: value}, inplace=True)' or df[col] = df[col].method(value) instead, to perform the operation inplace on the original object.\n",
      "\n",
      "\n",
      "  df[new_col_name].fillna(0, inplace=True)\n"
     ]
    }
   ],
   "source": [
    "full_data = add_rolling_average(full_data, 'TEAM_ID', 'PTS', 'AVG_PPG')\n",
    "full_data = add_rolling_average(full_data, 'TEAM_ID', 'FG_PCT', 'AVG_FG_PCT')\n",
    "full_data = add_rolling_average(full_data, 'TEAM_ID', 'FG3_PCT', 'AVG_FG3_PCT')\n",
    "full_data = add_rolling_average(full_data, 'TEAM_ID', 'FT_PCT', 'AVG_FT_PCT')\n",
    "full_data = add_rolling_average(full_data, 'TEAM_ID', 'AST', 'AVG_AST')\n",
    "full_data = add_rolling_average(full_data, 'TEAM_ID', 'REB', 'AVG_REB')\n",
    "full_data = add_rolling_average(full_data, 'TEAM_ID', 'TOV', 'AVG_TOV')"
   ]
  },
  {
   "cell_type": "code",
   "execution_count": 94,
   "id": "79c66d54-35d6-46b3-960b-2b05db4bb612",
   "metadata": {},
   "outputs": [
    {
     "name": "stderr",
     "output_type": "stream",
     "text": [
      "/var/folders/wc/2vlzlkzx2vd8xlqpnpxgcw6w0000gn/T/ipykernel_41741/470972626.py:34: FutureWarning: A value is trying to be set on a copy of a DataFrame or Series through chained assignment using an inplace method.\n",
      "The behavior will change in pandas 3.0. This inplace method will never work because the intermediate object on which we are setting values always behaves as a copy.\n",
      "\n",
      "For example, when doing 'df[col].method(value, inplace=True)', try using 'df.method({col: value}, inplace=True)' or df[col] = df[col].method(value) instead, to perform the operation inplace on the original object.\n",
      "\n",
      "\n",
      "  df[new_col_name].fillna(0, inplace=True)\n",
      "/var/folders/wc/2vlzlkzx2vd8xlqpnpxgcw6w0000gn/T/ipykernel_41741/470972626.py:34: FutureWarning: A value is trying to be set on a copy of a DataFrame or Series through chained assignment using an inplace method.\n",
      "The behavior will change in pandas 3.0. This inplace method will never work because the intermediate object on which we are setting values always behaves as a copy.\n",
      "\n",
      "For example, when doing 'df[col].method(value, inplace=True)', try using 'df.method({col: value}, inplace=True)' or df[col] = df[col].method(value) instead, to perform the operation inplace on the original object.\n",
      "\n",
      "\n",
      "  df[new_col_name].fillna(0, inplace=True)\n",
      "/var/folders/wc/2vlzlkzx2vd8xlqpnpxgcw6w0000gn/T/ipykernel_41741/470972626.py:34: FutureWarning: A value is trying to be set on a copy of a DataFrame or Series through chained assignment using an inplace method.\n",
      "The behavior will change in pandas 3.0. This inplace method will never work because the intermediate object on which we are setting values always behaves as a copy.\n",
      "\n",
      "For example, when doing 'df[col].method(value, inplace=True)', try using 'df.method({col: value}, inplace=True)' or df[col] = df[col].method(value) instead, to perform the operation inplace on the original object.\n",
      "\n",
      "\n",
      "  df[new_col_name].fillna(0, inplace=True)\n",
      "/var/folders/wc/2vlzlkzx2vd8xlqpnpxgcw6w0000gn/T/ipykernel_41741/470972626.py:34: FutureWarning: A value is trying to be set on a copy of a DataFrame or Series through chained assignment using an inplace method.\n",
      "The behavior will change in pandas 3.0. This inplace method will never work because the intermediate object on which we are setting values always behaves as a copy.\n",
      "\n",
      "For example, when doing 'df[col].method(value, inplace=True)', try using 'df.method({col: value}, inplace=True)' or df[col] = df[col].method(value) instead, to perform the operation inplace on the original object.\n",
      "\n",
      "\n",
      "  df[new_col_name].fillna(0, inplace=True)\n",
      "/var/folders/wc/2vlzlkzx2vd8xlqpnpxgcw6w0000gn/T/ipykernel_41741/470972626.py:34: FutureWarning: A value is trying to be set on a copy of a DataFrame or Series through chained assignment using an inplace method.\n",
      "The behavior will change in pandas 3.0. This inplace method will never work because the intermediate object on which we are setting values always behaves as a copy.\n",
      "\n",
      "For example, when doing 'df[col].method(value, inplace=True)', try using 'df.method({col: value}, inplace=True)' or df[col] = df[col].method(value) instead, to perform the operation inplace on the original object.\n",
      "\n",
      "\n",
      "  df[new_col_name].fillna(0, inplace=True)\n",
      "/var/folders/wc/2vlzlkzx2vd8xlqpnpxgcw6w0000gn/T/ipykernel_41741/470972626.py:34: FutureWarning: A value is trying to be set on a copy of a DataFrame or Series through chained assignment using an inplace method.\n",
      "The behavior will change in pandas 3.0. This inplace method will never work because the intermediate object on which we are setting values always behaves as a copy.\n",
      "\n",
      "For example, when doing 'df[col].method(value, inplace=True)', try using 'df.method({col: value}, inplace=True)' or df[col] = df[col].method(value) instead, to perform the operation inplace on the original object.\n",
      "\n",
      "\n",
      "  df[new_col_name].fillna(0, inplace=True)\n",
      "/var/folders/wc/2vlzlkzx2vd8xlqpnpxgcw6w0000gn/T/ipykernel_41741/470972626.py:34: FutureWarning: A value is trying to be set on a copy of a DataFrame or Series through chained assignment using an inplace method.\n",
      "The behavior will change in pandas 3.0. This inplace method will never work because the intermediate object on which we are setting values always behaves as a copy.\n",
      "\n",
      "For example, when doing 'df[col].method(value, inplace=True)', try using 'df.method({col: value}, inplace=True)' or df[col] = df[col].method(value) instead, to perform the operation inplace on the original object.\n",
      "\n",
      "\n",
      "  df[new_col_name].fillna(0, inplace=True)\n",
      "/var/folders/wc/2vlzlkzx2vd8xlqpnpxgcw6w0000gn/T/ipykernel_41741/470972626.py:34: FutureWarning: A value is trying to be set on a copy of a DataFrame or Series through chained assignment using an inplace method.\n",
      "The behavior will change in pandas 3.0. This inplace method will never work because the intermediate object on which we are setting values always behaves as a copy.\n",
      "\n",
      "For example, when doing 'df[col].method(value, inplace=True)', try using 'df.method({col: value}, inplace=True)' or df[col] = df[col].method(value) instead, to perform the operation inplace on the original object.\n",
      "\n",
      "\n",
      "  df[new_col_name].fillna(0, inplace=True)\n",
      "/var/folders/wc/2vlzlkzx2vd8xlqpnpxgcw6w0000gn/T/ipykernel_41741/470972626.py:34: FutureWarning: A value is trying to be set on a copy of a DataFrame or Series through chained assignment using an inplace method.\n",
      "The behavior will change in pandas 3.0. This inplace method will never work because the intermediate object on which we are setting values always behaves as a copy.\n",
      "\n",
      "For example, when doing 'df[col].method(value, inplace=True)', try using 'df.method({col: value}, inplace=True)' or df[col] = df[col].method(value) instead, to perform the operation inplace on the original object.\n",
      "\n",
      "\n",
      "  df[new_col_name].fillna(0, inplace=True)\n",
      "/var/folders/wc/2vlzlkzx2vd8xlqpnpxgcw6w0000gn/T/ipykernel_41741/470972626.py:34: FutureWarning: A value is trying to be set on a copy of a DataFrame or Series through chained assignment using an inplace method.\n",
      "The behavior will change in pandas 3.0. This inplace method will never work because the intermediate object on which we are setting values always behaves as a copy.\n",
      "\n",
      "For example, when doing 'df[col].method(value, inplace=True)', try using 'df.method({col: value}, inplace=True)' or df[col] = df[col].method(value) instead, to perform the operation inplace on the original object.\n",
      "\n",
      "\n",
      "  df[new_col_name].fillna(0, inplace=True)\n",
      "/var/folders/wc/2vlzlkzx2vd8xlqpnpxgcw6w0000gn/T/ipykernel_41741/470972626.py:34: FutureWarning: A value is trying to be set on a copy of a DataFrame or Series through chained assignment using an inplace method.\n",
      "The behavior will change in pandas 3.0. This inplace method will never work because the intermediate object on which we are setting values always behaves as a copy.\n",
      "\n",
      "For example, when doing 'df[col].method(value, inplace=True)', try using 'df.method({col: value}, inplace=True)' or df[col] = df[col].method(value) instead, to perform the operation inplace on the original object.\n",
      "\n",
      "\n",
      "  df[new_col_name].fillna(0, inplace=True)\n",
      "/var/folders/wc/2vlzlkzx2vd8xlqpnpxgcw6w0000gn/T/ipykernel_41741/470972626.py:34: FutureWarning: A value is trying to be set on a copy of a DataFrame or Series through chained assignment using an inplace method.\n",
      "The behavior will change in pandas 3.0. This inplace method will never work because the intermediate object on which we are setting values always behaves as a copy.\n",
      "\n",
      "For example, when doing 'df[col].method(value, inplace=True)', try using 'df.method({col: value}, inplace=True)' or df[col] = df[col].method(value) instead, to perform the operation inplace on the original object.\n",
      "\n",
      "\n",
      "  df[new_col_name].fillna(0, inplace=True)\n",
      "/var/folders/wc/2vlzlkzx2vd8xlqpnpxgcw6w0000gn/T/ipykernel_41741/470972626.py:34: FutureWarning: A value is trying to be set on a copy of a DataFrame or Series through chained assignment using an inplace method.\n",
      "The behavior will change in pandas 3.0. This inplace method will never work because the intermediate object on which we are setting values always behaves as a copy.\n",
      "\n",
      "For example, when doing 'df[col].method(value, inplace=True)', try using 'df.method({col: value}, inplace=True)' or df[col] = df[col].method(value) instead, to perform the operation inplace on the original object.\n",
      "\n",
      "\n",
      "  df[new_col_name].fillna(0, inplace=True)\n",
      "/var/folders/wc/2vlzlkzx2vd8xlqpnpxgcw6w0000gn/T/ipykernel_41741/470972626.py:34: FutureWarning: A value is trying to be set on a copy of a DataFrame or Series through chained assignment using an inplace method.\n",
      "The behavior will change in pandas 3.0. This inplace method will never work because the intermediate object on which we are setting values always behaves as a copy.\n",
      "\n",
      "For example, when doing 'df[col].method(value, inplace=True)', try using 'df.method({col: value}, inplace=True)' or df[col] = df[col].method(value) instead, to perform the operation inplace on the original object.\n",
      "\n",
      "\n",
      "  df[new_col_name].fillna(0, inplace=True)\n",
      "/var/folders/wc/2vlzlkzx2vd8xlqpnpxgcw6w0000gn/T/ipykernel_41741/470972626.py:34: FutureWarning: A value is trying to be set on a copy of a DataFrame or Series through chained assignment using an inplace method.\n",
      "The behavior will change in pandas 3.0. This inplace method will never work because the intermediate object on which we are setting values always behaves as a copy.\n",
      "\n",
      "For example, when doing 'df[col].method(value, inplace=True)', try using 'df.method({col: value}, inplace=True)' or df[col] = df[col].method(value) instead, to perform the operation inplace on the original object.\n",
      "\n",
      "\n",
      "  df[new_col_name].fillna(0, inplace=True)\n",
      "/var/folders/wc/2vlzlkzx2vd8xlqpnpxgcw6w0000gn/T/ipykernel_41741/470972626.py:34: FutureWarning: A value is trying to be set on a copy of a DataFrame or Series through chained assignment using an inplace method.\n",
      "The behavior will change in pandas 3.0. This inplace method will never work because the intermediate object on which we are setting values always behaves as a copy.\n",
      "\n",
      "For example, when doing 'df[col].method(value, inplace=True)', try using 'df.method({col: value}, inplace=True)' or df[col] = df[col].method(value) instead, to perform the operation inplace on the original object.\n",
      "\n",
      "\n",
      "  df[new_col_name].fillna(0, inplace=True)\n",
      "/var/folders/wc/2vlzlkzx2vd8xlqpnpxgcw6w0000gn/T/ipykernel_41741/470972626.py:34: FutureWarning: A value is trying to be set on a copy of a DataFrame or Series through chained assignment using an inplace method.\n",
      "The behavior will change in pandas 3.0. This inplace method will never work because the intermediate object on which we are setting values always behaves as a copy.\n",
      "\n",
      "For example, when doing 'df[col].method(value, inplace=True)', try using 'df.method({col: value}, inplace=True)' or df[col] = df[col].method(value) instead, to perform the operation inplace on the original object.\n",
      "\n",
      "\n",
      "  df[new_col_name].fillna(0, inplace=True)\n",
      "/var/folders/wc/2vlzlkzx2vd8xlqpnpxgcw6w0000gn/T/ipykernel_41741/470972626.py:34: FutureWarning: A value is trying to be set on a copy of a DataFrame or Series through chained assignment using an inplace method.\n",
      "The behavior will change in pandas 3.0. This inplace method will never work because the intermediate object on which we are setting values always behaves as a copy.\n",
      "\n",
      "For example, when doing 'df[col].method(value, inplace=True)', try using 'df.method({col: value}, inplace=True)' or df[col] = df[col].method(value) instead, to perform the operation inplace on the original object.\n",
      "\n",
      "\n",
      "  df[new_col_name].fillna(0, inplace=True)\n",
      "/var/folders/wc/2vlzlkzx2vd8xlqpnpxgcw6w0000gn/T/ipykernel_41741/470972626.py:34: FutureWarning: A value is trying to be set on a copy of a DataFrame or Series through chained assignment using an inplace method.\n",
      "The behavior will change in pandas 3.0. This inplace method will never work because the intermediate object on which we are setting values always behaves as a copy.\n",
      "\n",
      "For example, when doing 'df[col].method(value, inplace=True)', try using 'df.method({col: value}, inplace=True)' or df[col] = df[col].method(value) instead, to perform the operation inplace on the original object.\n",
      "\n",
      "\n",
      "  df[new_col_name].fillna(0, inplace=True)\n",
      "/var/folders/wc/2vlzlkzx2vd8xlqpnpxgcw6w0000gn/T/ipykernel_41741/470972626.py:34: FutureWarning: A value is trying to be set on a copy of a DataFrame or Series through chained assignment using an inplace method.\n",
      "The behavior will change in pandas 3.0. This inplace method will never work because the intermediate object on which we are setting values always behaves as a copy.\n",
      "\n",
      "For example, when doing 'df[col].method(value, inplace=True)', try using 'df.method({col: value}, inplace=True)' or df[col] = df[col].method(value) instead, to perform the operation inplace on the original object.\n",
      "\n",
      "\n",
      "  df[new_col_name].fillna(0, inplace=True)\n",
      "/var/folders/wc/2vlzlkzx2vd8xlqpnpxgcw6w0000gn/T/ipykernel_41741/470972626.py:34: FutureWarning: A value is trying to be set on a copy of a DataFrame or Series through chained assignment using an inplace method.\n",
      "The behavior will change in pandas 3.0. This inplace method will never work because the intermediate object on which we are setting values always behaves as a copy.\n",
      "\n",
      "For example, when doing 'df[col].method(value, inplace=True)', try using 'df.method({col: value}, inplace=True)' or df[col] = df[col].method(value) instead, to perform the operation inplace on the original object.\n",
      "\n",
      "\n",
      "  df[new_col_name].fillna(0, inplace=True)\n"
     ]
    }
   ],
   "source": [
    "rolling_avg_columns = ['PTS', 'FG_PCT', 'FG3_PCT', 'FT_PCT', 'AST', 'REB', 'TOV', 'PTS_QTR1', 'PTS_QTR2', 'PTS_QTR3', 'PTS_QTR4', 'PTS_OT1', 'PTS_OT2', 'PTS_OT3', 'PTS_OT4', 'PTS_OT5', 'PTS_OT6', 'PTS_OT7', 'PTS_OT8', 'PTS_OT9', 'PTS_OT10']\n",
    "\n",
    "for column in rolling_avg_columns:\n",
    "    full_data = add_rolling_avg_by_year(full_data, ['TEAM_ID', 'YEAR'], column, f'AVG_{column}')"
   ]
  },
  {
   "cell_type": "code",
   "execution_count": 95,
   "id": "ac127908",
   "metadata": {},
   "outputs": [
    {
     "data": {
      "text/plain": [
       "Index(['GAME_DATE_EST', 'GAME_SEQUENCE', 'GAME_ID', 'TEAM_ID',\n",
       "       'TEAM_ABBREVIATION', 'TEAM_CITY_NAME', 'TEAM_WINS_LOSSES', 'PTS_QTR1',\n",
       "       'PTS_QTR2', 'PTS_QTR3', 'PTS_QTR4', 'PTS_OT1', 'PTS_OT2', 'PTS_OT3',\n",
       "       'PTS_OT4', 'PTS_OT5', 'PTS_OT6', 'PTS_OT7', 'PTS_OT8', 'PTS_OT9',\n",
       "       'PTS_OT10', 'PTS', 'FG_PCT', 'FT_PCT', 'FG3_PCT', 'AST', 'REB', 'TOV',\n",
       "       'YEAR', 'AVG_PTS', 'AVG_FG_PCT', 'AVG_FG3_PCT', 'AVG_FT_PCT', 'AVG_AST',\n",
       "       'AVG_REB', 'AVG_TOV', 'AVG_PTS_QTR1', 'AVG_PTS_QTR2', 'AVG_PTS_QTR3',\n",
       "       'AVG_PTS_QTR4', 'AVG_PTS_OT1', 'AVG_PTS_OT2', 'AVG_PTS_OT3',\n",
       "       'AVG_PTS_OT4', 'AVG_PTS_OT5', 'AVG_PTS_OT6', 'AVG_PTS_OT7',\n",
       "       'AVG_PTS_OT8', 'AVG_PTS_OT9', 'AVG_PTS_OT10'],\n",
       "      dtype='object')"
      ]
     },
     "execution_count": 95,
     "metadata": {},
     "output_type": "execute_result"
    }
   ],
   "source": [
    "full_data.columns"
   ]
  },
  {
   "cell_type": "code",
   "execution_count": 69,
   "id": "d78ef641",
   "metadata": {},
   "outputs": [
    {
     "data": {
      "text/plain": [
       "0         0.000000\n",
       "1         0.000000\n",
       "2         0.000000\n",
       "3         0.000000\n",
       "4         0.000000\n",
       "           ...    \n",
       "2455    110.814815\n",
       "2456    111.407407\n",
       "2457    114.802469\n",
       "2458    113.975309\n",
       "2459    114.395062\n",
       "Name: AVG_PTS, Length: 17226, dtype: float64"
      ]
     },
     "execution_count": 69,
     "metadata": {},
     "output_type": "execute_result"
    }
   ],
   "source": [
    "full_data['AVG_PTS']"
   ]
  },
  {
   "cell_type": "code",
   "execution_count": 17,
   "id": "4bce87ef",
   "metadata": {},
   "outputs": [],
   "source": [
    "full_data.to_csv('/Users/trent/Documents/MSDS/Deep/Final Project/DL_project/Data/combined/full_raw_data_with_rolling_averages.csv', index=False)"
   ]
  },
  {
   "cell_type": "code",
   "execution_count": 59,
   "id": "f8610eb5",
   "metadata": {},
   "outputs": [],
   "source": [
    "import pandas as pd\n",
    "import numpy as np\n",
    "from sklearn.model_selection import train_test_split\n",
    "from sklearn.preprocessing import StandardScaler\n",
    "from tensorflow import keras\n",
    "from tensorflow.keras.models import Sequential\n",
    "from tensorflow.keras.layers import Dense, Dropout"
   ]
  },
  {
   "cell_type": "code",
   "execution_count": 60,
   "id": "e3b921e6",
   "metadata": {},
   "outputs": [
    {
     "name": "stderr",
     "output_type": "stream",
     "text": [
      "/var/folders/wc/2vlzlkzx2vd8xlqpnpxgcw6w0000gn/T/ipykernel_41741/2833064703.py:2: DtypeWarning: Columns (29) have mixed types. Specify dtype option on import or set low_memory=False.\n",
      "  game_stats = pd.read_csv('/Users/trent/Documents/MSDS/Deep/Final Project/DL_project/Data/combined/full_raw_data_with_rolling_averages.csv')\n"
     ]
    },
    {
     "ename": "KeyError",
     "evalue": "'game_id'",
     "output_type": "error",
     "traceback": [
      "\u001b[0;31m---------------------------------------------------------------------------\u001b[0m",
      "\u001b[0;31mKeyError\u001b[0m                                  Traceback (most recent call last)",
      "\u001b[0;32m/var/folders/wc/2vlzlkzx2vd8xlqpnpxgcw6w0000gn/T/ipykernel_41741/2833064703.py\u001b[0m in \u001b[0;36m?\u001b[0;34m()\u001b[0m\n\u001b[1;32m      2\u001b[0m \u001b[0mgame_stats\u001b[0m \u001b[0;34m=\u001b[0m \u001b[0mpd\u001b[0m\u001b[0;34m.\u001b[0m\u001b[0mread_csv\u001b[0m\u001b[0;34m(\u001b[0m\u001b[0;34m'/Users/trent/Documents/MSDS/Deep/Final Project/DL_project/Data/combined/full_raw_data_with_rolling_averages.csv'\u001b[0m\u001b[0;34m)\u001b[0m\u001b[0;34m\u001b[0m\u001b[0;34m\u001b[0m\u001b[0m\n\u001b[1;32m      3\u001b[0m \u001b[0mbetting_data\u001b[0m \u001b[0;34m=\u001b[0m \u001b[0mpd\u001b[0m\u001b[0;34m.\u001b[0m\u001b[0mread_csv\u001b[0m\u001b[0;34m(\u001b[0m\u001b[0;34m'/Users/trent/Documents/MSDS/Deep/Final Project/DL_project/Data/combined/full_vegas_data.csv'\u001b[0m\u001b[0;34m)\u001b[0m\u001b[0;34m\u001b[0m\u001b[0;34m\u001b[0m\u001b[0m\n\u001b[1;32m      4\u001b[0m \u001b[0;34m\u001b[0m\u001b[0m\n\u001b[1;32m      5\u001b[0m \u001b[0;31m# Merge datasets on common columns (assumed 'game_id')\u001b[0m\u001b[0;34m\u001b[0m\u001b[0;34m\u001b[0m\u001b[0m\n\u001b[0;32m----> 6\u001b[0;31m \u001b[0mdata\u001b[0m \u001b[0;34m=\u001b[0m \u001b[0mpd\u001b[0m\u001b[0;34m.\u001b[0m\u001b[0mmerge\u001b[0m\u001b[0;34m(\u001b[0m\u001b[0mgame_stats\u001b[0m\u001b[0;34m,\u001b[0m \u001b[0mbetting_data\u001b[0m\u001b[0;34m,\u001b[0m \u001b[0mon\u001b[0m\u001b[0;34m=\u001b[0m\u001b[0;34m'game_id'\u001b[0m\u001b[0;34m)\u001b[0m\u001b[0;34m\u001b[0m\u001b[0;34m\u001b[0m\u001b[0m\n\u001b[0m\u001b[1;32m      7\u001b[0m \u001b[0;34m\u001b[0m\u001b[0m\n\u001b[1;32m      8\u001b[0m \u001b[0;31m# Define features and target variable\u001b[0m\u001b[0;34m\u001b[0m\u001b[0;34m\u001b[0m\u001b[0m\n\u001b[1;32m      9\u001b[0m \u001b[0mfeatures\u001b[0m \u001b[0;34m=\u001b[0m \u001b[0;34m[\u001b[0m\u001b[0mcol\u001b[0m \u001b[0;32mfor\u001b[0m \u001b[0mcol\u001b[0m \u001b[0;32min\u001b[0m \u001b[0mdata\u001b[0m\u001b[0;34m.\u001b[0m\u001b[0mcolumns\u001b[0m \u001b[0;32mif\u001b[0m \u001b[0mcol\u001b[0m \u001b[0;32mnot\u001b[0m \u001b[0;32min\u001b[0m \u001b[0;34m[\u001b[0m\u001b[0;34m'game_id'\u001b[0m\u001b[0;34m,\u001b[0m \u001b[0;34m'team_won'\u001b[0m\u001b[0;34m]\u001b[0m\u001b[0;34m]\u001b[0m\u001b[0;34m\u001b[0m\u001b[0;34m\u001b[0m\u001b[0m\n",
      "\u001b[0;32m/opt/miniconda3/envs/test/lib/python3.12/site-packages/pandas/core/reshape/merge.py\u001b[0m in \u001b[0;36m?\u001b[0;34m(left, right, how, on, left_on, right_on, left_index, right_index, sort, suffixes, copy, indicator, validate)\u001b[0m\n\u001b[1;32m    166\u001b[0m             \u001b[0mvalidate\u001b[0m\u001b[0;34m=\u001b[0m\u001b[0mvalidate\u001b[0m\u001b[0;34m,\u001b[0m\u001b[0;34m\u001b[0m\u001b[0;34m\u001b[0m\u001b[0m\n\u001b[1;32m    167\u001b[0m             \u001b[0mcopy\u001b[0m\u001b[0;34m=\u001b[0m\u001b[0mcopy\u001b[0m\u001b[0;34m,\u001b[0m\u001b[0;34m\u001b[0m\u001b[0;34m\u001b[0m\u001b[0m\n\u001b[1;32m    168\u001b[0m         \u001b[0;34m)\u001b[0m\u001b[0;34m\u001b[0m\u001b[0;34m\u001b[0m\u001b[0m\n\u001b[1;32m    169\u001b[0m     \u001b[0;32melse\u001b[0m\u001b[0;34m:\u001b[0m\u001b[0;34m\u001b[0m\u001b[0;34m\u001b[0m\u001b[0m\n\u001b[0;32m--> 170\u001b[0;31m         op = _MergeOperation(\n\u001b[0m\u001b[1;32m    171\u001b[0m             \u001b[0mleft_df\u001b[0m\u001b[0;34m,\u001b[0m\u001b[0;34m\u001b[0m\u001b[0;34m\u001b[0m\u001b[0m\n\u001b[1;32m    172\u001b[0m             \u001b[0mright_df\u001b[0m\u001b[0;34m,\u001b[0m\u001b[0;34m\u001b[0m\u001b[0;34m\u001b[0m\u001b[0m\n\u001b[1;32m    173\u001b[0m             \u001b[0mhow\u001b[0m\u001b[0;34m=\u001b[0m\u001b[0mhow\u001b[0m\u001b[0;34m,\u001b[0m\u001b[0;34m\u001b[0m\u001b[0;34m\u001b[0m\u001b[0m\n",
      "\u001b[0;32m/opt/miniconda3/envs/test/lib/python3.12/site-packages/pandas/core/reshape/merge.py\u001b[0m in \u001b[0;36m?\u001b[0;34m(self, left, right, how, on, left_on, right_on, left_index, right_index, sort, suffixes, indicator, validate)\u001b[0m\n\u001b[1;32m    790\u001b[0m             \u001b[0mself\u001b[0m\u001b[0;34m.\u001b[0m\u001b[0mright_join_keys\u001b[0m\u001b[0;34m,\u001b[0m\u001b[0;34m\u001b[0m\u001b[0;34m\u001b[0m\u001b[0m\n\u001b[1;32m    791\u001b[0m             \u001b[0mself\u001b[0m\u001b[0;34m.\u001b[0m\u001b[0mjoin_names\u001b[0m\u001b[0;34m,\u001b[0m\u001b[0;34m\u001b[0m\u001b[0;34m\u001b[0m\u001b[0m\n\u001b[1;32m    792\u001b[0m             \u001b[0mleft_drop\u001b[0m\u001b[0;34m,\u001b[0m\u001b[0;34m\u001b[0m\u001b[0;34m\u001b[0m\u001b[0m\n\u001b[1;32m    793\u001b[0m             \u001b[0mright_drop\u001b[0m\u001b[0;34m,\u001b[0m\u001b[0;34m\u001b[0m\u001b[0;34m\u001b[0m\u001b[0m\n\u001b[0;32m--> 794\u001b[0;31m         \u001b[0;34m)\u001b[0m \u001b[0;34m=\u001b[0m \u001b[0mself\u001b[0m\u001b[0;34m.\u001b[0m\u001b[0m_get_merge_keys\u001b[0m\u001b[0;34m(\u001b[0m\u001b[0;34m)\u001b[0m\u001b[0;34m\u001b[0m\u001b[0;34m\u001b[0m\u001b[0m\n\u001b[0m\u001b[1;32m    795\u001b[0m \u001b[0;34m\u001b[0m\u001b[0m\n\u001b[1;32m    796\u001b[0m         \u001b[0;32mif\u001b[0m \u001b[0mleft_drop\u001b[0m\u001b[0;34m:\u001b[0m\u001b[0;34m\u001b[0m\u001b[0;34m\u001b[0m\u001b[0m\n\u001b[1;32m    797\u001b[0m             \u001b[0mself\u001b[0m\u001b[0;34m.\u001b[0m\u001b[0mleft\u001b[0m \u001b[0;34m=\u001b[0m \u001b[0mself\u001b[0m\u001b[0;34m.\u001b[0m\u001b[0mleft\u001b[0m\u001b[0;34m.\u001b[0m\u001b[0m_drop_labels_or_levels\u001b[0m\u001b[0;34m(\u001b[0m\u001b[0mleft_drop\u001b[0m\u001b[0;34m)\u001b[0m\u001b[0;34m\u001b[0m\u001b[0;34m\u001b[0m\u001b[0m\n",
      "\u001b[0;32m/opt/miniconda3/envs/test/lib/python3.12/site-packages/pandas/core/reshape/merge.py\u001b[0m in \u001b[0;36m?\u001b[0;34m(self)\u001b[0m\n\u001b[1;32m   1293\u001b[0m                         \u001b[0;31m# Then we're either Hashable or a wrong-length arraylike,\u001b[0m\u001b[0;34m\u001b[0m\u001b[0;34m\u001b[0m\u001b[0m\n\u001b[1;32m   1294\u001b[0m                         \u001b[0;31m#  the latter of which will raise\u001b[0m\u001b[0;34m\u001b[0m\u001b[0;34m\u001b[0m\u001b[0m\n\u001b[1;32m   1295\u001b[0m                         \u001b[0mrk\u001b[0m \u001b[0;34m=\u001b[0m \u001b[0mcast\u001b[0m\u001b[0;34m(\u001b[0m\u001b[0mHashable\u001b[0m\u001b[0;34m,\u001b[0m \u001b[0mrk\u001b[0m\u001b[0;34m)\u001b[0m\u001b[0;34m\u001b[0m\u001b[0;34m\u001b[0m\u001b[0m\n\u001b[1;32m   1296\u001b[0m                         \u001b[0;32mif\u001b[0m \u001b[0mrk\u001b[0m \u001b[0;32mis\u001b[0m \u001b[0;32mnot\u001b[0m \u001b[0;32mNone\u001b[0m\u001b[0;34m:\u001b[0m\u001b[0;34m\u001b[0m\u001b[0;34m\u001b[0m\u001b[0m\n\u001b[0;32m-> 1297\u001b[0;31m                             \u001b[0mright_keys\u001b[0m\u001b[0;34m.\u001b[0m\u001b[0mappend\u001b[0m\u001b[0;34m(\u001b[0m\u001b[0mright\u001b[0m\u001b[0;34m.\u001b[0m\u001b[0m_get_label_or_level_values\u001b[0m\u001b[0;34m(\u001b[0m\u001b[0mrk\u001b[0m\u001b[0;34m)\u001b[0m\u001b[0;34m)\u001b[0m\u001b[0;34m\u001b[0m\u001b[0;34m\u001b[0m\u001b[0m\n\u001b[0m\u001b[1;32m   1298\u001b[0m                         \u001b[0;32melse\u001b[0m\u001b[0;34m:\u001b[0m\u001b[0;34m\u001b[0m\u001b[0;34m\u001b[0m\u001b[0m\n\u001b[1;32m   1299\u001b[0m                             \u001b[0;31m# work-around for merge_asof(right_index=True)\u001b[0m\u001b[0;34m\u001b[0m\u001b[0;34m\u001b[0m\u001b[0m\n\u001b[1;32m   1300\u001b[0m                             \u001b[0mright_keys\u001b[0m\u001b[0;34m.\u001b[0m\u001b[0mappend\u001b[0m\u001b[0;34m(\u001b[0m\u001b[0mright\u001b[0m\u001b[0;34m.\u001b[0m\u001b[0mindex\u001b[0m\u001b[0;34m.\u001b[0m\u001b[0m_values\u001b[0m\u001b[0;34m)\u001b[0m\u001b[0;34m\u001b[0m\u001b[0;34m\u001b[0m\u001b[0m\n",
      "\u001b[0;32m/opt/miniconda3/envs/test/lib/python3.12/site-packages/pandas/core/generic.py\u001b[0m in \u001b[0;36m?\u001b[0;34m(self, key, axis)\u001b[0m\n\u001b[1;32m   1907\u001b[0m             \u001b[0mvalues\u001b[0m \u001b[0;34m=\u001b[0m \u001b[0mself\u001b[0m\u001b[0;34m.\u001b[0m\u001b[0mxs\u001b[0m\u001b[0;34m(\u001b[0m\u001b[0mkey\u001b[0m\u001b[0;34m,\u001b[0m \u001b[0maxis\u001b[0m\u001b[0;34m=\u001b[0m\u001b[0mother_axes\u001b[0m\u001b[0;34m[\u001b[0m\u001b[0;36m0\u001b[0m\u001b[0;34m]\u001b[0m\u001b[0;34m)\u001b[0m\u001b[0;34m.\u001b[0m\u001b[0m_values\u001b[0m\u001b[0;34m\u001b[0m\u001b[0;34m\u001b[0m\u001b[0m\n\u001b[1;32m   1908\u001b[0m         \u001b[0;32melif\u001b[0m \u001b[0mself\u001b[0m\u001b[0;34m.\u001b[0m\u001b[0m_is_level_reference\u001b[0m\u001b[0;34m(\u001b[0m\u001b[0mkey\u001b[0m\u001b[0;34m,\u001b[0m \u001b[0maxis\u001b[0m\u001b[0;34m=\u001b[0m\u001b[0maxis\u001b[0m\u001b[0;34m)\u001b[0m\u001b[0;34m:\u001b[0m\u001b[0;34m\u001b[0m\u001b[0;34m\u001b[0m\u001b[0m\n\u001b[1;32m   1909\u001b[0m             \u001b[0mvalues\u001b[0m \u001b[0;34m=\u001b[0m \u001b[0mself\u001b[0m\u001b[0;34m.\u001b[0m\u001b[0maxes\u001b[0m\u001b[0;34m[\u001b[0m\u001b[0maxis\u001b[0m\u001b[0;34m]\u001b[0m\u001b[0;34m.\u001b[0m\u001b[0mget_level_values\u001b[0m\u001b[0;34m(\u001b[0m\u001b[0mkey\u001b[0m\u001b[0;34m)\u001b[0m\u001b[0;34m.\u001b[0m\u001b[0m_values\u001b[0m\u001b[0;34m\u001b[0m\u001b[0;34m\u001b[0m\u001b[0m\n\u001b[1;32m   1910\u001b[0m         \u001b[0;32melse\u001b[0m\u001b[0;34m:\u001b[0m\u001b[0;34m\u001b[0m\u001b[0;34m\u001b[0m\u001b[0m\n\u001b[0;32m-> 1911\u001b[0;31m             \u001b[0;32mraise\u001b[0m \u001b[0mKeyError\u001b[0m\u001b[0;34m(\u001b[0m\u001b[0mkey\u001b[0m\u001b[0;34m)\u001b[0m\u001b[0;34m\u001b[0m\u001b[0;34m\u001b[0m\u001b[0m\n\u001b[0m\u001b[1;32m   1912\u001b[0m \u001b[0;34m\u001b[0m\u001b[0m\n\u001b[1;32m   1913\u001b[0m         \u001b[0;31m# Check for duplicates\u001b[0m\u001b[0;34m\u001b[0m\u001b[0;34m\u001b[0m\u001b[0m\n\u001b[1;32m   1914\u001b[0m         \u001b[0;32mif\u001b[0m \u001b[0mvalues\u001b[0m\u001b[0;34m.\u001b[0m\u001b[0mndim\u001b[0m \u001b[0;34m>\u001b[0m \u001b[0;36m1\u001b[0m\u001b[0;34m:\u001b[0m\u001b[0;34m\u001b[0m\u001b[0;34m\u001b[0m\u001b[0m\n",
      "\u001b[0;31mKeyError\u001b[0m: 'game_id'"
     ]
    }
   ],
   "source": [
    "# Load datasets\n",
    "game_stats = pd.read_csv('/Users/trent/Documents/MSDS/Deep/Final Project/DL_project/Data/combined/full_raw_data_with_rolling_averages.csv')\n",
    "betting_data = pd.read_csv('/Users/trent/Documents/MSDS/Deep/Final Project/DL_project/Data/combined/full_vegas_data.csv')\n",
    "\n",
    "# Merge datasets on common columns (assumed 'game_id')\n",
    "data = pd.merge(game_stats, betting_data, on='game_id')\n",
    "\n",
    "# Define features and target variable\n",
    "features = [col for col in data.columns if col not in ['game_id', 'team_won']]\n",
    "target = 'team_won'\n",
    "\n",
    "X = data[features]\n",
    "y = data[target]\n",
    "\n",
    "# Standardize features\n",
    "scaler = StandardScaler()\n",
    "X_scaled = scaler.fit_transform(X)\n",
    "\n",
    "# Split data\n",
    "X_train, X_test, y_train, y_test = train_test_split(X_scaled, y, test_size=0.2, random_state=42)\n",
    "\n",
    "# Build MLP model\n",
    "model = Sequential([\n",
    "    Dense(128, activation='relu', input_shape=(X_train.shape[1],)),\n",
    "    Dropout(0.3),\n",
    "    Dense(64, activation='relu'),\n",
    "    Dropout(0.3),\n",
    "    Dense(1, activation='sigmoid')\n",
    "])\n",
    "\n",
    "model.compile(optimizer='adam', loss='binary_crossentropy', metrics=['accuracy'])\n",
    "\n",
    "# Train model\n",
    "model.fit(X_train, y_train, epochs=50, batch_size=32, validation_data=(X_test, y_test))\n",
    "\n",
    "# Evaluate model\n",
    "loss, accuracy = model.evaluate(X_test, y_test)\n",
    "print(f'Test Accuracy: {accuracy:.2f}')\n"
   ]
  },
  {
   "cell_type": "code",
   "execution_count": 71,
   "id": "e166db6c",
   "metadata": {},
   "outputs": [
    {
     "data": {
      "text/plain": [
       "np.int64(7386)"
      ]
     },
     "execution_count": 71,
     "metadata": {},
     "output_type": "execute_result"
    }
   ],
   "source": [
    "full_data['DATE'].isna().sum()"
   ]
  },
  {
   "cell_type": "code",
   "execution_count": null,
   "id": "b46182c5",
   "metadata": {},
   "outputs": [],
   "source": []
  }
 ],
 "metadata": {
  "kernelspec": {
   "display_name": "test",
   "language": "python",
   "name": "python3"
  },
  "language_info": {
   "codemirror_mode": {
    "name": "ipython",
    "version": 3
   },
   "file_extension": ".py",
   "mimetype": "text/x-python",
   "name": "python",
   "nbconvert_exporter": "python",
   "pygments_lexer": "ipython3",
   "version": "3.12.3"
  }
 },
 "nbformat": 4,
 "nbformat_minor": 5
}
